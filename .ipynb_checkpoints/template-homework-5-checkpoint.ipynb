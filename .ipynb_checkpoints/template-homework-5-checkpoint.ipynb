{
 "cells": [
  {
   "cell_type": "markdown",
   "metadata": {
    "id": "fQFlVvECeZsD"
   },
   "source": [
    "# **Imports 📢**"
   ]
  },
  {
   "cell_type": "code",
   "execution_count": 3,
   "metadata": {
    "collapsed": true,
    "id": "dQ9OIgAs4iWa",
    "jupyter": {
     "outputs_hidden": true
    },
    "tags": []
   },
   "outputs": [
    {
     "name": "stdout",
     "output_type": "stream",
     "text": [
      "Requirement already satisfied: torchmetrics in c:\\users\\mahdi\\anaconda3\\lib\\site-packages (0.11.4)\n",
      "Requirement already satisfied: typing-extensions in c:\\users\\mahdi\\anaconda3\\lib\\site-packages (from torchmetrics) (4.4.0)\n",
      "Requirement already satisfied: numpy>=1.17.2 in c:\\users\\mahdi\\anaconda3\\lib\\site-packages (from torchmetrics) (1.21.6)\n",
      "Requirement already satisfied: torch>=1.8.1 in c:\\users\\mahdi\\anaconda3\\lib\\site-packages (from torchmetrics) (1.12.1)\n",
      "Requirement already satisfied: packaging in c:\\users\\mahdi\\anaconda3\\lib\\site-packages (from torchmetrics) (22.0)\n"
     ]
    },
    {
     "name": "stderr",
     "output_type": "stream",
     "text": [
      "WARNING: Ignoring invalid distribution -atplotlib (c:\\users\\mahdi\\anaconda3\\lib\\site-packages)\n",
      "WARNING: Ignoring invalid distribution -atplotlib (c:\\users\\mahdi\\anaconda3\\lib\\site-packages)\n",
      "WARNING: Ignoring invalid distribution -atplotlib (c:\\users\\mahdi\\anaconda3\\lib\\site-packages)\n",
      "WARNING: Ignoring invalid distribution -atplotlib (c:\\users\\mahdi\\anaconda3\\lib\\site-packages)\n",
      "WARNING: Ignoring invalid distribution -atplotlib (c:\\users\\mahdi\\anaconda3\\lib\\site-packages)\n",
      "WARNING: Ignoring invalid distribution -atplotlib (c:\\users\\mahdi\\anaconda3\\lib\\site-packages)\n"
     ]
    }
   ],
   "source": [
    "!pip install torchmetrics"
   ]
  },
  {
   "cell_type": "code",
   "execution_count": 4,
   "metadata": {
    "collapsed": true,
    "jupyter": {
     "outputs_hidden": true
    },
    "tags": []
   },
   "outputs": [
    {
     "name": "stdout",
     "output_type": "stream",
     "text": [
      "Requirement already satisfied: prettytable in c:\\users\\mahdi\\anaconda3\\lib\\site-packages (3.7.0)\n",
      "Requirement already satisfied: wcwidth in c:\\users\\mahdi\\anaconda3\\lib\\site-packages (from prettytable) (0.2.6)\n",
      "Requirement already satisfied: importlib-metadata in c:\\users\\mahdi\\anaconda3\\lib\\site-packages (from prettytable) (4.11.3)\n",
      "Requirement already satisfied: typing-extensions>=3.6.4 in c:\\users\\mahdi\\anaconda3\\lib\\site-packages (from importlib-metadata->prettytable) (4.4.0)\n",
      "Requirement already satisfied: zipp>=0.5 in c:\\users\\mahdi\\anaconda3\\lib\\site-packages (from importlib-metadata->prettytable) (3.11.0)\n"
     ]
    },
    {
     "name": "stderr",
     "output_type": "stream",
     "text": [
      "WARNING: Ignoring invalid distribution -atplotlib (c:\\users\\mahdi\\anaconda3\\lib\\site-packages)\n",
      "WARNING: Ignoring invalid distribution -atplotlib (c:\\users\\mahdi\\anaconda3\\lib\\site-packages)\n",
      "WARNING: Ignoring invalid distribution -atplotlib (c:\\users\\mahdi\\anaconda3\\lib\\site-packages)\n",
      "WARNING: Ignoring invalid distribution -atplotlib (c:\\users\\mahdi\\anaconda3\\lib\\site-packages)\n",
      "WARNING: Ignoring invalid distribution -atplotlib (c:\\users\\mahdi\\anaconda3\\lib\\site-packages)\n",
      "WARNING: Ignoring invalid distribution -atplotlib (c:\\users\\mahdi\\anaconda3\\lib\\site-packages)\n"
     ]
    }
   ],
   "source": [
    "!pip install prettytable"
   ]
  },
  {
   "cell_type": "code",
   "execution_count": 5,
   "metadata": {
    "id": "Jnc2LOc9eRjD"
   },
   "outputs": [],
   "source": [
    "import torch\n",
    "import torch.nn as nn\n",
    "import torch.optim as optim\n",
    "from torch.utils.data import TensorDataset, DataLoader, random_split\n",
    "\n",
    "import pandas as pd\n",
    "import csv\n",
    "import matplotlib.pyplot as plt\n",
    "import seaborn as sns\n",
    "from sklearn.model_selection import train_test_split\n",
    "from torchmetrics import Accuracy\n",
    "from tqdm import tqdm"
   ]
  },
  {
   "cell_type": "markdown",
   "metadata": {
    "id": "OsNaqujTeiGx"
   },
   "source": [
    "# **Dataset 🗂️**"
   ]
  },
  {
   "cell_type": "markdown",
   "metadata": {
    "id": "3kNFvE61Q7sC"
   },
   "source": [
    "## Read Dataset"
   ]
  },
  {
   "cell_type": "code",
   "execution_count": 6,
   "metadata": {
    "id": "b6VI5hKSTU_L"
   },
   "outputs": [],
   "source": [
    "##read dataset\n"
   ]
  },
  {
   "cell_type": "code",
   "execution_count": 7,
   "metadata": {
    "id": "rhv0ZRi_ec_K"
   },
   "outputs": [],
   "source": [
    "##uncompress\n"
   ]
  },
  {
   "cell_type": "code",
   "execution_count": 8,
   "metadata": {
    "id": "b18SVXvm_QIb"
   },
   "outputs": [],
   "source": [
    "def read_file(file,phase):\n",
    "    with open(file, 'rb') as fh:\n",
    "        decompressed_data = fh.read()\n",
    "    list_data = decompressed_data.decode('utf-8').splitlines()\n",
    "    with open(phase +\".csv\",\"w\", newline=\"\") as f:\n",
    "        writer = csv.writer(f)\n",
    "        for line in list_data:\n",
    "            # making cells by using , delimiters\n",
    "            writer.writerow(line.split(\" \"))  "
   ]
  },
  {
   "cell_type": "code",
   "execution_count": 9,
   "metadata": {},
   "outputs": [],
   "source": [
    "read_file('shuttle.trn',\"train\")"
   ]
  },
  {
   "cell_type": "code",
   "execution_count": 10,
   "metadata": {
    "id": "kYaYRyCi_qfZ"
   },
   "outputs": [
    {
     "data": {
      "text/plain": [
       "((43500, 10), (14500, 9))"
      ]
     },
     "execution_count": 10,
     "metadata": {},
     "output_type": "execute_result"
    }
   ],
   "source": [
    "##readfile\n",
    "test_set = pd.read_csv('shuttledata_test.csv', header=None)\n",
    "\n",
    "train_set = pd.read_csv('train.csv' , header=None)\n",
    "\n",
    "train_set.shape , test_set.shape"
   ]
  },
  {
   "cell_type": "markdown",
   "metadata": {
    "id": "_RlAcfkrvBDn"
   },
   "source": [
    "## Split"
   ]
  },
  {
   "cell_type": "code",
   "execution_count": 11,
   "metadata": {},
   "outputs": [
    {
     "data": {
      "text/plain": [
       "((30450, 10), (13050, 10))"
      ]
     },
     "execution_count": 11,
     "metadata": {},
     "output_type": "execute_result"
    }
   ],
   "source": [
    "train_set , valid_set = train_test_split(train_set , test_size=0.3 , random_state=0)\n",
    "train_set.shape , valid_set.shape"
   ]
  },
  {
   "cell_type": "code",
   "execution_count": 12,
   "metadata": {},
   "outputs": [
    {
     "name": "stdout",
     "output_type": "stream",
     "text": [
      "(30450, 9)\n",
      "(13050, 9)\n",
      "(30450,)\n",
      "(13050,)\n"
     ]
    }
   ],
   "source": [
    "X_train = train_set.drop(9 , axis=1).values\n",
    "X_valid = valid_set.drop(9 , axis=1).values\n",
    "y_train = train_set[9].values\n",
    "y_train = y_train - 1\n",
    "y_valid = valid_set[9].values\n",
    "y_valid = y_valid - 1\n",
    "\n",
    "print(X_train.shape)\n",
    "print(X_valid.shape)\n",
    "print(y_train.shape)\n",
    "print(y_valid.shape)"
   ]
  },
  {
   "cell_type": "markdown",
   "metadata": {
    "id": "5qOD027He6RR"
   },
   "source": [
    "## Preprocess"
   ]
  },
  {
   "cell_type": "code",
   "execution_count": 13,
   "metadata": {
    "id": "w7hFEHNGe91D"
   },
   "outputs": [],
   "source": [
    "X_train = torch.FloatTensor(X_train)\n",
    "X_valid = torch.FloatTensor(X_valid)\n",
    "\n",
    "y_train = torch.LongTensor(y_train)\n",
    "y_valid = torch.LongTensor(y_valid)"
   ]
  },
  {
   "cell_type": "code",
   "execution_count": 14,
   "metadata": {},
   "outputs": [],
   "source": [
    "mu = torch.mean(X_train , dim=0)\n",
    "std = torch.std(X_train , dim=0)\n",
    "\n",
    "X_train = (X_train - mu) / std\n",
    "X_valid = (X_valid - mu) / std"
   ]
  },
  {
   "cell_type": "markdown",
   "metadata": {
    "id": "Fy195c8EfWDJ"
   },
   "source": [
    "## Dataloader"
   ]
  },
  {
   "cell_type": "code",
   "execution_count": 15,
   "metadata": {
    "id": "ZSSRbHM0fT-A"
   },
   "outputs": [],
   "source": [
    "train_dataset = TensorDataset(X_train , y_train)\n",
    "valid_dataset = TensorDataset(X_valid , y_valid)\n",
    "\n",
    "train_loader = DataLoader(train_dataset , 1000 , True)\n",
    "valid_loader = DataLoader(valid_dataset , 2000)"
   ]
  },
  {
   "cell_type": "markdown",
   "metadata": {
    "id": "-NBcJXJkfgUI"
   },
   "source": [
    "# **Model 🧠**"
   ]
  },
  {
   "cell_type": "code",
   "execution_count": 16,
   "metadata": {
    "id": "2b9Po2RYfi8C"
   },
   "outputs": [
    {
     "data": {
      "text/plain": [
       "Sequential(\n",
       "  (0): Linear(in_features=9, out_features=20, bias=True)\n",
       "  (1): ReLU()\n",
       "  (2): Linear(in_features=20, out_features=10, bias=True)\n",
       "  (3): ReLU()\n",
       "  (4): Linear(in_features=10, out_features=7, bias=True)\n",
       ")"
      ]
     },
     "execution_count": 16,
     "metadata": {},
     "output_type": "execute_result"
    }
   ],
   "source": [
    "num_features = 9\n",
    "num_classes = 7\n",
    "h1 = 20\n",
    "h2 = 10\n",
    "\n",
    "model = nn.Sequential(\n",
    "                      nn.Linear(num_features , h1),\n",
    "                      nn.ReLU(),\n",
    "\n",
    "                      nn.Linear(h1 , h2),\n",
    "                      nn.ReLU(),\n",
    "                      \n",
    "                      nn.Linear(h2 , num_classes)\n",
    "                      )\n",
    "\n",
    "model"
   ]
  },
  {
   "cell_type": "markdown",
   "metadata": {
    "id": "DY5JMY1Yftsr"
   },
   "source": [
    "# **Device ⚙️**"
   ]
  },
  {
   "cell_type": "code",
   "execution_count": 17,
   "metadata": {
    "id": "Ce6_MpTcfrGi"
   },
   "outputs": [],
   "source": [
    "device = 'cuda' if torch.cuda.is_available() else 'cpu'\n",
    "model = model.to(device)"
   ]
  },
  {
   "cell_type": "markdown",
   "metadata": {
    "id": "xFbRtOqLfnh6"
   },
   "source": [
    "# **Loss ⚖️**"
   ]
  },
  {
   "cell_type": "markdown",
   "metadata": {
    "id": "f5iDi4F4Cpws"
   },
   "source": [
    "## CrossEntropyLoss"
   ]
  },
  {
   "cell_type": "code",
   "execution_count": 18,
   "metadata": {
    "id": "EpzTOAOafj8e"
   },
   "outputs": [],
   "source": [
    "loss_fn = nn.CrossEntropyLoss()"
   ]
  },
  {
   "cell_type": "markdown",
   "metadata": {
    "id": "8dejGbh1C1zJ"
   },
   "source": [
    "# **Optimizer📻**"
   ]
  },
  {
   "cell_type": "markdown",
   "metadata": {
    "id": "b39HneYjC_-l"
   },
   "source": [
    "## SGD"
   ]
  },
  {
   "cell_type": "code",
   "execution_count": 19,
   "metadata": {
    "id": "uc9TWmYsDBKl"
   },
   "outputs": [],
   "source": [
    "optimizer = optim.SGD(model.parameters() , lr=0.01 , momentum=0.9 , weight_decay=1e-4)"
   ]
  },
  {
   "cell_type": "markdown",
   "metadata": {
    "id": "mbpEEA0g1-Be"
   },
   "source": [
    "# **Utils 🧰**"
   ]
  },
  {
   "cell_type": "code",
   "execution_count": 20,
   "metadata": {
    "id": "G6s889_UrqDT"
   },
   "outputs": [],
   "source": [
    "class AverageMeter(object):\n",
    "    \"\"\"Computes and stores the average and current value\"\"\"\n",
    "    def __init__(self):\n",
    "        self.reset()\n",
    "\n",
    "    def reset(self):\n",
    "        self.val = 0\n",
    "        self.avg = 0\n",
    "        self.sum = 0\n",
    "        self.count = 0\n",
    "\n",
    "    def update(self, val, n=1):\n",
    "        self.val = val\n",
    "        self.sum += val * n\n",
    "        self.count += n\n",
    "        self.avg = self.sum / self.count"
   ]
  },
  {
   "cell_type": "markdown",
   "metadata": {
    "id": "cG8chNGOA5LR"
   },
   "source": [
    "# **Functions** 🧮"
   ]
  },
  {
   "cell_type": "code",
   "execution_count": 21,
   "metadata": {
    "id": "t0-nTLwsA6d6"
   },
   "outputs": [],
   "source": [
    "def train_one_epoch(model, train_loader, loss_fn, optimizer, epoch=None):\n",
    "    model.train()\n",
    "    loss_train = AverageMeter()\n",
    "    acc_train = Accuracy(task='multiclass',num_classes=7).to(device)\n",
    "    \n",
    "    with tqdm(train_loader, unit='batch') as tepoch:\n",
    "        for inputs, targets in tepoch:\n",
    "            \n",
    "            if epoch is not None:\n",
    "                tepoch.set_description(f'Epoch {epoch}')\n",
    "                \n",
    "            inputs = inputs.to(device)\n",
    "            targets = targets.to(device)\n",
    "\n",
    "            outputs = model(inputs)\n",
    "            loss = loss_fn(outputs, targets)\n",
    "\n",
    "            loss.backward()\n",
    "            optimizer.step()\n",
    "            optimizer.zero_grad()\n",
    "\n",
    "            loss_train.update(loss.item())\n",
    "            acc_train(outputs, targets.int())\n",
    "\n",
    "            tepoch.set_postfix(loss=loss_train.avg,\n",
    "                                 accuracy=100.*acc_train.compute().item())\n",
    "            \n",
    "    return model, loss_train.avg, acc_train.compute().item()"
   ]
  },
  {
   "cell_type": "code",
   "execution_count": 22,
   "metadata": {
    "id": "PfojrmeYBHD5"
   },
   "outputs": [],
   "source": [
    "def evaluate(model, valid_loader, loss_fn):\n",
    "    model.eval()\n",
    "    with torch.no_grad():\n",
    "        loss_valid = AverageMeter()\n",
    "        acc_valid = Accuracy(task='multiclass',num_classes=7).to(device)\n",
    "        \n",
    "        for i, (inputs, targets) in enumerate(valid_loader):\n",
    "            inputs = inputs.to(device)\n",
    "            targets = targets.to(device)\n",
    "\n",
    "            outputs = model(inputs)\n",
    "            loss = loss_fn(outputs, targets)\n",
    "\n",
    "            loss_valid.update(loss.item())\n",
    "            acc_valid(outputs, targets.int())\n",
    "\n",
    "    return loss_valid.avg, acc_valid.compute()"
   ]
  },
  {
   "cell_type": "markdown",
   "metadata": {
    "id": "9csGqnCvtFAS"
   },
   "source": [
    "# **Efficient way for set hyperparams 🔨**"
   ]
  },
  {
   "cell_type": "code",
   "execution_count": 23,
   "metadata": {},
   "outputs": [],
   "source": [
    "model = nn.Sequential(\n",
    "                      nn.Linear(num_features , h1),\n",
    "                      nn.ReLU(),\n",
    "\n",
    "                      nn.Linear(h1 , h2),\n",
    "                      nn.ReLU(),\n",
    "                      \n",
    "                      nn.Linear(h2 , num_classes)\n",
    "                      )\n",
    "model = model.to(device)\n",
    "\n",
    "optimizer = optim.SGD(model.parameters() , lr=0.01 , momentum=0.9 , weight_decay=1e-4)"
   ]
  },
  {
   "cell_type": "markdown",
   "metadata": {
    "id": "lpJ3wtyctQJH"
   },
   "source": [
    "## Step 1: check forward path\n",
    "\n",
    "Calculate loss for one batch"
   ]
  },
  {
   "cell_type": "code",
   "execution_count": 24,
   "metadata": {
    "id": "IpUgLpfWtMZP"
   },
   "outputs": [
    {
     "data": {
      "text/plain": [
       "tensor(1.9309, grad_fn=<NllLossBackward0>)"
      ]
     },
     "execution_count": 24,
     "metadata": {},
     "output_type": "execute_result"
    }
   ],
   "source": [
    "input_batch , output_batch = next(iter(train_loader))\n",
    "y_pred = model(input_batch)\n",
    "loss = loss_fn(y_pred , output_batch)\n",
    "loss"
   ]
  },
  {
   "cell_type": "markdown",
   "metadata": {
    "id": "BrHQCv7q7LF_"
   },
   "source": [
    "## Step 2: check backward path\n",
    "\n",
    "Select 5 random batches and overfit the model"
   ]
  },
  {
   "cell_type": "code",
   "execution_count": 25,
   "metadata": {
    "id": "Jxz5DXoj61mg"
   },
   "outputs": [],
   "source": [
    "mini_train_dataset, _ = random_split(train_dataset , (5000 , len(train_dataset)-5000))\n",
    "mini_loader = DataLoader(mini_train_dataset , 500 , shuffle=True)"
   ]
  },
  {
   "cell_type": "code",
   "execution_count": 26,
   "metadata": {
    "collapsed": true,
    "id": "PK-P20hI3snf",
    "jupyter": {
     "outputs_hidden": true
    },
    "tags": []
   },
   "outputs": [
    {
     "name": "stderr",
     "output_type": "stream",
     "text": [
      "Epoch 0: 100%|██████████| 10/10 [00:00<00:00, 82.12batch/s, accuracy=24.4, loss=1.85]\n",
      "Epoch 1: 100%|██████████| 10/10 [00:00<00:00, 94.59batch/s, accuracy=78.1, loss=1.48]\n",
      "Epoch 2: 100%|██████████| 10/10 [00:00<00:00, 85.25batch/s, accuracy=78.1, loss=1.08]\n",
      "Epoch 3: 100%|██████████| 10/10 [00:00<00:00, 50.90batch/s, accuracy=78.1, loss=0.818]\n",
      "Epoch 4: 100%|██████████| 10/10 [00:00<00:00, 78.33batch/s, accuracy=78.1, loss=0.703]\n",
      "Epoch 5: 100%|██████████| 10/10 [00:00<00:00, 87.95batch/s, accuracy=78.1, loss=0.638]\n",
      "Epoch 6: 100%|██████████| 10/10 [00:00<00:00, 86.44batch/s, accuracy=78.1, loss=0.589]\n",
      "Epoch 7: 100%|██████████| 10/10 [00:00<00:00, 87.95batch/s, accuracy=78.1, loss=0.547]\n",
      "Epoch 8: 100%|██████████| 10/10 [00:00<00:00, 80.21batch/s, accuracy=78.1, loss=0.509]\n",
      "Epoch 9: 100%|██████████| 10/10 [00:00<00:00, 80.86batch/s, accuracy=78.1, loss=0.47]\n",
      "Epoch 10: 100%|██████████| 10/10 [00:00<00:00, 81.45batch/s, accuracy=78.1, loss=0.43]\n",
      "Epoch 11: 100%|██████████| 10/10 [00:00<00:00, 66.85batch/s, accuracy=78.1, loss=0.387]\n",
      "Epoch 12: 100%|██████████| 10/10 [00:00<00:00, 72.65batch/s, accuracy=81, loss=0.343] \n",
      "Epoch 13: 100%|██████████| 10/10 [00:00<00:00, 74.81batch/s, accuracy=87.3, loss=0.299]\n",
      "Epoch 14: 100%|██████████| 10/10 [00:00<00:00, 76.54batch/s, accuracy=91.4, loss=0.264]\n",
      "Epoch 15: 100%|██████████| 10/10 [00:00<00:00, 79.58batch/s, accuracy=93.4, loss=0.239]\n",
      "Epoch 16: 100%|██████████| 10/10 [00:00<00:00, 67.29batch/s, accuracy=94.6, loss=0.221]\n",
      "Epoch 17: 100%|██████████| 10/10 [00:00<00:00, 45.87batch/s, accuracy=95.1, loss=0.207]\n",
      "Epoch 18: 100%|██████████| 10/10 [00:00<00:00, 63.06batch/s, accuracy=95.4, loss=0.196]\n",
      "Epoch 19: 100%|██████████| 10/10 [00:00<00:00, 68.21batch/s, accuracy=96, loss=0.187] \n",
      "Epoch 20: 100%|██████████| 10/10 [00:00<00:00, 69.68batch/s, accuracy=96.2, loss=0.178]\n",
      "Epoch 21: 100%|██████████| 10/10 [00:00<00:00, 59.33batch/s, accuracy=96.5, loss=0.171]\n",
      "Epoch 22: 100%|██████████| 10/10 [00:00<00:00, 61.89batch/s, accuracy=96.6, loss=0.164]\n",
      "Epoch 23: 100%|██████████| 10/10 [00:00<00:00, 67.66batch/s, accuracy=96.7, loss=0.158]\n",
      "Epoch 24: 100%|██████████| 10/10 [00:00<00:00, 69.15batch/s, accuracy=97, loss=0.153] \n",
      "Epoch 25: 100%|██████████| 10/10 [00:00<00:00, 64.27batch/s, accuracy=97.2, loss=0.148]\n",
      "Epoch 26: 100%|██████████| 10/10 [00:00<00:00, 68.13batch/s, accuracy=97.3, loss=0.143]\n",
      "Epoch 27: 100%|██████████| 10/10 [00:00<00:00, 69.15batch/s, accuracy=97.3, loss=0.138]\n",
      "Epoch 28: 100%|██████████| 10/10 [00:00<00:00, 58.98batch/s, accuracy=97.2, loss=0.134]\n",
      "Epoch 29: 100%|██████████| 10/10 [00:00<00:00, 69.35batch/s, accuracy=97.5, loss=0.131]\n",
      "Epoch 30: 100%|██████████| 10/10 [00:00<00:00, 65.53batch/s, accuracy=97.6, loss=0.127]\n",
      "Epoch 31: 100%|██████████| 10/10 [00:00<00:00, 58.98batch/s, accuracy=97.7, loss=0.124]\n",
      "Epoch 32: 100%|██████████| 10/10 [00:00<00:00, 71.07batch/s, accuracy=97.7, loss=0.121]\n",
      "Epoch 33: 100%|██████████| 10/10 [00:00<00:00, 64.00batch/s, accuracy=97.8, loss=0.118]\n",
      "Epoch 34: 100%|██████████| 10/10 [00:00<00:00, 62.28batch/s, accuracy=97.8, loss=0.115]\n",
      "Epoch 35: 100%|██████████| 10/10 [00:00<00:00, 61.14batch/s, accuracy=97.8, loss=0.113]\n",
      "Epoch 36: 100%|██████████| 10/10 [00:00<00:00, 63.06batch/s, accuracy=97.7, loss=0.11]\n",
      "Epoch 37: 100%|██████████| 10/10 [00:00<00:00, 66.85batch/s, accuracy=98, loss=0.108] \n",
      "Epoch 38: 100%|██████████| 10/10 [00:00<00:00, 65.53batch/s, accuracy=98, loss=0.106] \n",
      "Epoch 39: 100%|██████████| 10/10 [00:00<00:00, 70.12batch/s, accuracy=98, loss=0.104] \n",
      "Epoch 40: 100%|██████████| 10/10 [00:00<00:00, 69.63batch/s, accuracy=98, loss=0.101]  \n",
      "Epoch 41: 100%|██████████| 10/10 [00:00<00:00, 47.07batch/s, accuracy=98, loss=0.0994]\n",
      "Epoch 42: 100%|██████████| 10/10 [00:00<00:00, 61.39batch/s, accuracy=98, loss=0.0976] \n",
      "Epoch 43: 100%|██████████| 10/10 [00:00<00:00, 69.15batch/s, accuracy=98.1, loss=0.0957]\n",
      "Epoch 44: 100%|██████████| 10/10 [00:00<00:00, 69.63batch/s, accuracy=98, loss=0.0941]\n",
      "Epoch 45: 100%|██████████| 10/10 [00:00<00:00, 67.17batch/s, accuracy=98.1, loss=0.0925]\n",
      "Epoch 46: 100%|██████████| 10/10 [00:00<00:00, 70.12batch/s, accuracy=98.2, loss=0.0909]\n",
      "Epoch 47: 100%|██████████| 10/10 [00:00<00:00, 68.21batch/s, accuracy=98.3, loss=0.0895]\n",
      "Epoch 48: 100%|██████████| 10/10 [00:00<00:00, 80.21batch/s, accuracy=98.3, loss=0.0881]\n",
      "Epoch 49: 100%|██████████| 10/10 [00:00<00:00, 82.85batch/s, accuracy=98.3, loss=0.0867]\n",
      "Epoch 50: 100%|██████████| 10/10 [00:00<00:00, 87.19batch/s, accuracy=98.3, loss=0.0854]\n",
      "Epoch 51: 100%|██████████| 10/10 [00:00<00:00, 79.58batch/s, accuracy=98.3, loss=0.084]\n",
      "Epoch 52: 100%|██████████| 10/10 [00:00<00:00, 70.61batch/s, accuracy=98.3, loss=0.0828]\n",
      "Epoch 53: 100%|██████████| 10/10 [00:00<00:00, 66.40batch/s, accuracy=98.3, loss=0.0814]\n",
      "Epoch 54: 100%|██████████| 10/10 [00:00<00:00, 77.73batch/s, accuracy=98.3, loss=0.08] \n",
      "Epoch 55: 100%|██████████| 10/10 [00:00<00:00, 84.26batch/s, accuracy=98.4, loss=0.0787]\n",
      "Epoch 56: 100%|██████████| 10/10 [00:00<00:00, 78.10batch/s, accuracy=98.4, loss=0.0776]\n",
      "Epoch 57: 100%|██████████| 10/10 [00:00<00:00, 84.97batch/s, accuracy=98.4, loss=0.0766]\n",
      "Epoch 58: 100%|██████████| 10/10 [00:00<00:00, 87.95batch/s, accuracy=98.4, loss=0.0755]\n",
      "Epoch 59: 100%|██████████| 10/10 [00:00<00:00, 84.26batch/s, accuracy=98.4, loss=0.0744]\n",
      "Epoch 60: 100%|██████████| 10/10 [00:00<00:00, 99.12batch/s, accuracy=98.4, loss=0.0733]\n",
      "Epoch 61: 100%|██████████| 10/10 [00:00<00:00, 107.81batch/s, accuracy=98.5, loss=0.0723]\n",
      "Epoch 62: 100%|██████████| 10/10 [00:00<00:00, 72.66batch/s, accuracy=98.6, loss=0.0714]\n",
      "Epoch 63: 100%|██████████| 10/10 [00:00<00:00, 82.19batch/s, accuracy=98.6, loss=0.0705]\n",
      "Epoch 64: 100%|██████████| 10/10 [00:00<00:00, 83.56batch/s, accuracy=98.6, loss=0.0695]\n",
      "Epoch 65: 100%|██████████| 10/10 [00:00<00:00, 79.65batch/s, accuracy=98.6, loss=0.0685]\n",
      "Epoch 66: 100%|██████████| 10/10 [00:00<00:00, 84.26batch/s, accuracy=98.7, loss=0.0677]\n",
      "Epoch 67: 100%|██████████| 10/10 [00:00<00:00, 83.56batch/s, accuracy=98.7, loss=0.0668]\n",
      "Epoch 68: 100%|██████████| 10/10 [00:00<00:00, 82.87batch/s, accuracy=98.7, loss=0.066]\n",
      "Epoch 69: 100%|██████████| 10/10 [00:00<00:00, 80.81batch/s, accuracy=98.7, loss=0.0651]\n",
      "Epoch 70: 100%|██████████| 10/10 [00:00<00:00, 77.73batch/s, accuracy=98.8, loss=0.0643]\n",
      "Epoch 71: 100%|██████████| 10/10 [00:00<00:00, 82.19batch/s, accuracy=98.9, loss=0.0636]\n",
      "Epoch 72: 100%|██████████| 10/10 [00:00<00:00, 82.18batch/s, accuracy=98.9, loss=0.0628]\n",
      "Epoch 73: 100%|██████████| 10/10 [00:00<00:00, 76.54batch/s, accuracy=98.9, loss=0.0621]\n",
      "Epoch 74: 100%|██████████| 10/10 [00:00<00:00, 82.19batch/s, accuracy=99, loss=0.0614]\n",
      "Epoch 75: 100%|██████████| 10/10 [00:00<00:00, 82.19batch/s, accuracy=99, loss=0.0606]\n",
      "Epoch 76: 100%|██████████| 10/10 [00:00<00:00, 83.56batch/s, accuracy=99, loss=0.06] \n",
      "Epoch 77: 100%|██████████| 10/10 [00:00<00:00, 80.21batch/s, accuracy=99.1, loss=0.0593]\n",
      "Epoch 78: 100%|██████████| 10/10 [00:00<00:00, 82.19batch/s, accuracy=99.1, loss=0.0586]\n",
      "Epoch 79: 100%|██████████| 10/10 [00:00<00:00, 84.97batch/s, accuracy=99.1, loss=0.058]\n",
      "Epoch 80: 100%|██████████| 10/10 [00:00<00:00, 89.44batch/s, accuracy=99.1, loss=0.0574]\n",
      "Epoch 81: 100%|██████████| 10/10 [00:00<00:00, 78.95batch/s, accuracy=99.1, loss=0.0568]\n",
      "Epoch 82: 100%|██████████| 10/10 [00:00<00:00, 81.52batch/s, accuracy=99.1, loss=0.0561]\n",
      "Epoch 83: 100%|██████████| 10/10 [00:00<00:00, 85.70batch/s, accuracy=99.1, loss=0.0556]\n",
      "Epoch 84: 100%|██████████| 10/10 [00:00<00:00, 91.06batch/s, accuracy=99.1, loss=0.055]\n",
      "Epoch 85: 100%|██████████| 10/10 [00:00<00:00, 51.96batch/s, accuracy=99.1, loss=0.0545]\n",
      "Epoch 86: 100%|██████████| 10/10 [00:00<00:00, 84.97batch/s, accuracy=99.2, loss=0.054]\n",
      "Epoch 87: 100%|██████████| 10/10 [00:00<00:00, 81.52batch/s, accuracy=99.2, loss=0.0534]\n",
      "Epoch 88: 100%|██████████| 10/10 [00:00<00:00, 83.61batch/s, accuracy=99.2, loss=0.0529]\n",
      "Epoch 89: 100%|██████████| 10/10 [00:00<00:00, 83.55batch/s, accuracy=99.2, loss=0.0524]\n",
      "Epoch 90: 100%|██████████| 10/10 [00:00<00:00, 86.44batch/s, accuracy=99.2, loss=0.0519]\n",
      "Epoch 91: 100%|██████████| 10/10 [00:00<00:00, 73.19batch/s, accuracy=99.3, loss=0.0514]\n",
      "Epoch 92: 100%|██████████| 10/10 [00:00<00:00, 75.98batch/s, accuracy=99.3, loss=0.051]\n",
      "Epoch 93: 100%|██████████| 10/10 [00:00<00:00, 77.73batch/s, accuracy=99.3, loss=0.0505]\n",
      "Epoch 94: 100%|██████████| 10/10 [00:00<00:00, 71.62batch/s, accuracy=99.3, loss=0.0501]\n",
      "Epoch 95: 100%|██████████| 10/10 [00:00<00:00, 48.58batch/s, accuracy=99.3, loss=0.0496]\n",
      "Epoch 96: 100%|██████████| 10/10 [00:00<00:00, 45.37batch/s, accuracy=99.4, loss=0.0492]\n",
      "Epoch 97: 100%|██████████| 10/10 [00:00<00:00, 58.29batch/s, accuracy=99.3, loss=0.0488]\n",
      "Epoch 98: 100%|██████████| 10/10 [00:00<00:00, 57.70batch/s, accuracy=99.3, loss=0.0483]\n",
      "Epoch 99: 100%|██████████| 10/10 [00:00<00:00, 54.79batch/s, accuracy=99.4, loss=0.048]\n"
     ]
    }
   ],
   "source": [
    "num_epochs = 100\n",
    "for epoch in range(num_epochs):\n",
    "    model , _ , _ = train_one_epoch(model , mini_loader , loss_fn , optimizer , epoch)"
   ]
  },
  {
   "cell_type": "markdown",
   "metadata": {
    "id": "BLT4w0ZfAhlJ"
   },
   "source": [
    "## Step 3: select best lr\n",
    "\n",
    "Train all data for one epoch"
   ]
  },
  {
   "cell_type": "code",
   "execution_count": 27,
   "metadata": {
    "collapsed": true,
    "id": "c7tlXlY4_Dwi",
    "jupyter": {
     "outputs_hidden": true
    },
    "tags": []
   },
   "outputs": [
    {
     "name": "stdout",
     "output_type": "stream",
     "text": [
      "LR=0.1\n"
     ]
    },
    {
     "name": "stderr",
     "output_type": "stream",
     "text": [
      "Epoch 0: 100%|██████████| 31/31 [00:00<00:00, 35.98batch/s, accuracy=85.9, loss=0.579]\n",
      "Epoch 1: 100%|██████████| 31/31 [00:00<00:00, 47.89batch/s, accuracy=96.9, loss=0.154]\n",
      "Epoch 2: 100%|██████████| 31/31 [00:00<00:00, 56.51batch/s, accuracy=98.1, loss=0.1]  \n",
      "Epoch 3: 100%|██████████| 31/31 [00:00<00:00, 46.40batch/s, accuracy=98.8, loss=0.0755]\n",
      "Epoch 4: 100%|██████████| 31/31 [00:01<00:00, 23.11batch/s, accuracy=99.1, loss=0.0596]\n"
     ]
    },
    {
     "name": "stdout",
     "output_type": "stream",
     "text": [
      "\n",
      "LR=0.01\n"
     ]
    },
    {
     "name": "stderr",
     "output_type": "stream",
     "text": [
      "Epoch 0: 100%|██████████| 31/31 [00:01<00:00, 26.19batch/s, accuracy=56.4, loss=1.56] \n",
      "Epoch 1: 100%|██████████| 31/31 [00:00<00:00, 37.49batch/s, accuracy=83, loss=0.666]  \n",
      "Epoch 2: 100%|██████████| 31/31 [00:01<00:00, 29.74batch/s, accuracy=91.1, loss=0.345]\n",
      "Epoch 3: 100%|██████████| 31/31 [00:01<00:00, 27.93batch/s, accuracy=92.8, loss=0.225]\n",
      "Epoch 4: 100%|██████████| 31/31 [00:00<00:00, 32.34batch/s, accuracy=95.2, loss=0.178]\n"
     ]
    },
    {
     "name": "stdout",
     "output_type": "stream",
     "text": [
      "\n",
      "LR=0.001\n"
     ]
    },
    {
     "name": "stderr",
     "output_type": "stream",
     "text": [
      "Epoch 0: 100%|██████████| 31/31 [00:00<00:00, 31.59batch/s, accuracy=78.6, loss=1.64]\n",
      "Epoch 1: 100%|██████████| 31/31 [00:00<00:00, 41.67batch/s, accuracy=78.4, loss=1.48]\n",
      "Epoch 2: 100%|██████████| 31/31 [00:01<00:00, 28.58batch/s, accuracy=78.4, loss=1.32]\n",
      "Epoch 3: 100%|██████████| 31/31 [00:00<00:00, 35.56batch/s, accuracy=78.4, loss=1.17]\n",
      "Epoch 4: 100%|██████████| 31/31 [00:00<00:00, 31.35batch/s, accuracy=78.4, loss=1.03]\n"
     ]
    },
    {
     "name": "stdout",
     "output_type": "stream",
     "text": [
      "\n",
      "LR=0.0001\n"
     ]
    },
    {
     "name": "stderr",
     "output_type": "stream",
     "text": [
      "Epoch 0: 100%|██████████| 31/31 [00:00<00:00, 37.71batch/s, accuracy=0.102, loss=2.13] \n",
      "Epoch 1: 100%|██████████| 31/31 [00:00<00:00, 40.42batch/s, accuracy=0.177, loss=2.1]  \n",
      "Epoch 2: 100%|██████████| 31/31 [00:00<00:00, 40.15batch/s, accuracy=0.312, loss=2.07]\n",
      "Epoch 3: 100%|██████████| 31/31 [00:00<00:00, 45.45batch/s, accuracy=0.588, loss=2.04]\n",
      "Epoch 4: 100%|██████████| 31/31 [00:00<00:00, 43.30batch/s, accuracy=0.778, loss=2.01]"
     ]
    },
    {
     "name": "stdout",
     "output_type": "stream",
     "text": [
      "\n"
     ]
    },
    {
     "name": "stderr",
     "output_type": "stream",
     "text": [
      "\n"
     ]
    }
   ],
   "source": [
    "for lr in [0.1, 0.01, 0.001, 0.0001]:\n",
    "    model = nn.Sequential(\n",
    "                          nn.Linear(num_features , h1),\n",
    "                          nn.ReLU(),\n",
    "\n",
    "                          nn.Linear(h1 , h2),\n",
    "                          nn.ReLU(),\n",
    "                      \n",
    "                          nn.Linear(h2 , num_classes)\n",
    "                          )\n",
    "    model = model.to(device)\n",
    "\n",
    "    optimizer = optim.SGD(model.parameters() , lr=lr , momentum=0.9 , weight_decay=1e-4)\n",
    "    \n",
    "    print(f'LR={lr}')\n",
    "    for epoch in range(5):\n",
    "        modl , _ , _ = train_one_epoch(model, train_loader, loss_fn, optimizer, epoch)\n",
    "    print()"
   ]
  },
  {
   "cell_type": "markdown",
   "metadata": {
    "id": "uC2GhaXfA8vC"
   },
   "source": [
    "## Step 4: small grid (optional)\n",
    "\n",
    "Create a small grid based on the WD and the best LR\n",
    "\n"
   ]
  },
  {
   "cell_type": "code",
   "execution_count": 28,
   "metadata": {
    "collapsed": true,
    "id": "yIta-JKgA7-I",
    "jupyter": {
     "outputs_hidden": true
    },
    "tags": []
   },
   "outputs": [
    {
     "name": "stdout",
     "output_type": "stream",
     "text": [
      "LR=0.15, WD=0.001\n"
     ]
    },
    {
     "name": "stderr",
     "output_type": "stream",
     "text": [
      "Epoch 0: 100%|██████████| 31/31 [00:00<00:00, 44.97batch/s, accuracy=79.7, loss=0.691]\n",
      "Epoch 1: 100%|██████████| 31/31 [00:00<00:00, 42.93batch/s, accuracy=97.4, loss=0.13] \n",
      "Epoch 2: 100%|██████████| 31/31 [00:00<00:00, 41.64batch/s, accuracy=98.9, loss=0.07]  \n",
      "Epoch 3: 100%|██████████| 31/31 [00:00<00:00, 31.57batch/s, accuracy=99.3, loss=0.0576]\n",
      "Epoch 4: 100%|██████████| 31/31 [00:00<00:00, 37.95batch/s, accuracy=99.4, loss=0.0471]\n"
     ]
    },
    {
     "name": "stdout",
     "output_type": "stream",
     "text": [
      "\n",
      "LR=0.15, WD=0.0001\n"
     ]
    },
    {
     "name": "stderr",
     "output_type": "stream",
     "text": [
      "Epoch 0: 100%|██████████| 31/31 [00:00<00:00, 35.75batch/s, accuracy=84.5, loss=0.584]\n",
      "Epoch 1: 100%|██████████| 31/31 [00:00<00:00, 40.83batch/s, accuracy=97.7, loss=0.12] \n",
      "Epoch 2: 100%|██████████| 31/31 [00:00<00:00, 37.97batch/s, accuracy=98.7, loss=0.0809]\n",
      "Epoch 3: 100%|██████████| 31/31 [00:00<00:00, 41.55batch/s, accuracy=99.3, loss=0.0562]\n",
      "Epoch 4: 100%|██████████| 31/31 [00:01<00:00, 25.43batch/s, accuracy=99.5, loss=0.0475]\n"
     ]
    },
    {
     "name": "stdout",
     "output_type": "stream",
     "text": [
      "\n",
      "LR=0.15, WD=1e-05\n"
     ]
    },
    {
     "name": "stderr",
     "output_type": "stream",
     "text": [
      "Epoch 0: 100%|██████████| 31/31 [00:01<00:00, 29.68batch/s, accuracy=80.5, loss=0.591]\n",
      "Epoch 1: 100%|██████████| 31/31 [00:00<00:00, 43.70batch/s, accuracy=97.7, loss=0.143]\n",
      "Epoch 2: 100%|██████████| 31/31 [00:00<00:00, 46.29batch/s, accuracy=98.7, loss=0.0874]\n",
      "Epoch 3: 100%|██████████| 31/31 [00:00<00:00, 44.03batch/s, accuracy=99.2, loss=0.0664]\n",
      "Epoch 4: 100%|██████████| 31/31 [00:00<00:00, 50.71batch/s, accuracy=99.3, loss=0.057] \n"
     ]
    },
    {
     "name": "stdout",
     "output_type": "stream",
     "text": [
      "\n",
      "LR=0.1, WD=0.001\n"
     ]
    },
    {
     "name": "stderr",
     "output_type": "stream",
     "text": [
      "Epoch 0: 100%|██████████| 31/31 [00:00<00:00, 45.28batch/s, accuracy=76.4, loss=0.787]\n",
      "Epoch 1: 100%|██████████| 31/31 [00:00<00:00, 41.39batch/s, accuracy=96.1, loss=0.158]\n",
      "Epoch 2: 100%|██████████| 31/31 [00:00<00:00, 51.55batch/s, accuracy=98.8, loss=0.0895]\n",
      "Epoch 3: 100%|██████████| 31/31 [00:00<00:00, 50.50batch/s, accuracy=99.3, loss=0.0631]\n",
      "Epoch 4: 100%|██████████| 31/31 [00:00<00:00, 57.34batch/s, accuracy=99.4, loss=0.0537]\n"
     ]
    },
    {
     "name": "stdout",
     "output_type": "stream",
     "text": [
      "\n",
      "LR=0.1, WD=0.0001\n"
     ]
    },
    {
     "name": "stderr",
     "output_type": "stream",
     "text": [
      "Epoch 0: 100%|██████████| 31/31 [00:00<00:00, 53.04batch/s, accuracy=74, loss=0.804]  \n",
      "Epoch 1: 100%|██████████| 31/31 [00:00<00:00, 60.81batch/s, accuracy=96.9, loss=0.161]\n",
      "Epoch 2: 100%|██████████| 31/31 [00:00<00:00, 60.82batch/s, accuracy=98.2, loss=0.101]\n",
      "Epoch 3: 100%|██████████| 31/31 [00:00<00:00, 53.78batch/s, accuracy=98.8, loss=0.0739]\n",
      "Epoch 4: 100%|██████████| 31/31 [00:00<00:00, 41.83batch/s, accuracy=99.4, loss=0.0619]\n"
     ]
    },
    {
     "name": "stdout",
     "output_type": "stream",
     "text": [
      "\n",
      "LR=0.1, WD=1e-05\n"
     ]
    },
    {
     "name": "stderr",
     "output_type": "stream",
     "text": [
      "Epoch 0: 100%|██████████| 31/31 [00:00<00:00, 35.75batch/s, accuracy=81.4, loss=0.649]\n",
      "Epoch 1: 100%|██████████| 31/31 [00:00<00:00, 38.10batch/s, accuracy=96.9, loss=0.142]\n",
      "Epoch 2: 100%|██████████| 31/31 [00:01<00:00, 28.26batch/s, accuracy=98.6, loss=0.0856]\n",
      "Epoch 3: 100%|██████████| 31/31 [00:00<00:00, 35.92batch/s, accuracy=99.3, loss=0.0616]\n",
      "Epoch 4: 100%|██████████| 31/31 [00:00<00:00, 40.26batch/s, accuracy=99.3, loss=0.0505]\n"
     ]
    },
    {
     "name": "stdout",
     "output_type": "stream",
     "text": [
      "\n",
      "LR=0.05, WD=0.001\n"
     ]
    },
    {
     "name": "stderr",
     "output_type": "stream",
     "text": [
      "Epoch 0: 100%|██████████| 31/31 [00:00<00:00, 37.98batch/s, accuracy=70.3, loss=0.928]\n",
      "Epoch 1: 100%|██████████| 31/31 [00:00<00:00, 47.37batch/s, accuracy=92.2, loss=0.227]\n",
      "Epoch 2: 100%|██████████| 31/31 [00:00<00:00, 44.47batch/s, accuracy=97.9, loss=0.135]\n",
      "Epoch 3: 100%|██████████| 31/31 [00:00<00:00, 61.65batch/s, accuracy=98.2, loss=0.102]\n",
      "Epoch 4: 100%|██████████| 31/31 [00:00<00:00, 50.01batch/s, accuracy=98.7, loss=0.0859]\n"
     ]
    },
    {
     "name": "stdout",
     "output_type": "stream",
     "text": [
      "\n",
      "LR=0.05, WD=0.0001\n"
     ]
    },
    {
     "name": "stderr",
     "output_type": "stream",
     "text": [
      "Epoch 0: 100%|██████████| 31/31 [00:00<00:00, 55.71batch/s, accuracy=71.9, loss=0.991]\n",
      "Epoch 1: 100%|██████████| 31/31 [00:00<00:00, 59.31batch/s, accuracy=92.1, loss=0.255]\n",
      "Epoch 2: 100%|██████████| 31/31 [00:00<00:00, 53.12batch/s, accuracy=96.9, loss=0.142]\n",
      "Epoch 3: 100%|██████████| 31/31 [00:00<00:00, 53.22batch/s, accuracy=97.8, loss=0.104]\n",
      "Epoch 4: 100%|██████████| 31/31 [00:00<00:00, 52.42batch/s, accuracy=98.7, loss=0.0809]\n"
     ]
    },
    {
     "name": "stdout",
     "output_type": "stream",
     "text": [
      "\n",
      "LR=0.05, WD=1e-05\n"
     ]
    },
    {
     "name": "stderr",
     "output_type": "stream",
     "text": [
      "Epoch 0: 100%|██████████| 31/31 [00:00<00:00, 59.40batch/s, accuracy=67.7, loss=0.968]\n",
      "Epoch 1: 100%|██████████| 31/31 [00:00<00:00, 53.36batch/s, accuracy=93.6, loss=0.212]\n",
      "Epoch 2: 100%|██████████| 31/31 [00:00<00:00, 62.39batch/s, accuracy=98, loss=0.129]  \n",
      "Epoch 3: 100%|██████████| 31/31 [00:00<00:00, 50.38batch/s, accuracy=98.2, loss=0.101]\n",
      "Epoch 4: 100%|██████████| 31/31 [00:00<00:00, 61.90batch/s, accuracy=98.3, loss=0.0878]"
     ]
    },
    {
     "name": "stdout",
     "output_type": "stream",
     "text": [
      "\n"
     ]
    },
    {
     "name": "stderr",
     "output_type": "stream",
     "text": [
      "\n"
     ]
    }
   ],
   "source": [
    "all_params_list = []\n",
    "for lr in [0.15 , 0.1 , 0.05]:\n",
    "    for wd in [1e-3 , 1e-4 , 1e-5]:\n",
    "        \n",
    "        model = nn.Sequential(\n",
    "                              nn.Linear(num_features , h1),\n",
    "                              nn.ReLU(),\n",
    "\n",
    "                              nn.Linear(h1 , h2),\n",
    "                              nn.ReLU(),\n",
    "\n",
    "                              nn.Linear(h2 , num_classes)\n",
    "                              )\n",
    "        model = model.to(device)\n",
    "\n",
    "        optimizer = optim.SGD(model.parameters() , lr=lr , momentum=0.9 , weight_decay=wd)\n",
    "\n",
    "        print(f'LR={lr}, WD={wd}')\n",
    "        for epoch in range(5):\n",
    "             modl , loss_train , _ = train_one_epoch(model, train_loader, loss_fn, optimizer, epoch)\n",
    "                \n",
    "        loss_train = round(loss_train , ndigits=3)\n",
    "        params = [lr , wd , loss_train]\n",
    "        all_params_list.append(params)\n",
    "        print()"
   ]
  },
  {
   "cell_type": "code",
   "execution_count": 29,
   "metadata": {},
   "outputs": [
    {
     "name": "stdout",
     "output_type": "stream",
     "text": [
      "+---------------+--------------+-------+\n",
      "| Learning Rate | Weight Decay |  Loss |\n",
      "+---------------+--------------+-------+\n",
      "|      0.15     |    0.001     | 0.047 |\n",
      "|      0.15     |    0.0001    | 0.048 |\n",
      "|      0.15     |    1e-05     | 0.057 |\n",
      "|      0.1      |    0.001     | 0.054 |\n",
      "|      0.1      |    0.0001    | 0.062 |\n",
      "|      0.1      |    1e-05     | 0.051 |\n",
      "|      0.05     |    0.001     | 0.086 |\n",
      "|      0.05     |    0.0001    | 0.081 |\n",
      "|      0.05     |    1e-05     | 0.088 |\n",
      "+---------------+--------------+-------+\n"
     ]
    }
   ],
   "source": [
    "from prettytable import PrettyTable\n",
    "\n",
    "table = PrettyTable(['Learning Rate', 'Weight Decay', 'Loss'])\n",
    "\n",
    "for rec in all_params_list:\n",
    "    table.add_row(rec)\n",
    "    \n",
    "print(table)"
   ]
  },
  {
   "cell_type": "markdown",
   "metadata": {
    "id": "oBW2SLfEEkCp"
   },
   "source": [
    "## Step 5: train more epochs"
   ]
  },
  {
   "cell_type": "code",
   "execution_count": 30,
   "metadata": {
    "id": "vwIDemRWECNm"
   },
   "outputs": [],
   "source": [
    "model = nn.Sequential(\n",
    "                        nn.Linear(num_features , h1),\n",
    "                        nn.ReLU(),\n",
    "\n",
    "                        nn.Linear(h1 , h2),\n",
    "                        nn.ReLU(),\n",
    "\n",
    "                        nn.Linear(h2 , num_classes)\n",
    "                              )\n",
    "\n",
    "model = model.to(device)\n",
    "\n",
    "optimizer = optim.SGD(model.parameters() , lr=0.15 , momentum=0.9 , weight_decay=1e-5)"
   ]
  },
  {
   "cell_type": "code",
   "execution_count": 31,
   "metadata": {},
   "outputs": [],
   "source": [
    "num_epoch = 100"
   ]
  },
  {
   "cell_type": "code",
   "execution_count": 32,
   "metadata": {},
   "outputs": [],
   "source": [
    "best_valid_loss = torch.inf"
   ]
  },
  {
   "cell_type": "code",
   "execution_count": 33,
   "metadata": {},
   "outputs": [],
   "source": [
    "loss_train_hist = []\n",
    "loss_valid_hist = []\n",
    "acc_train_hist = []\n",
    "acc_valid_hist = []"
   ]
  },
  {
   "cell_type": "code",
   "execution_count": 34,
   "metadata": {
    "collapsed": true,
    "jupyter": {
     "outputs_hidden": true
    },
    "tags": []
   },
   "outputs": [
    {
     "name": "stderr",
     "output_type": "stream",
     "text": [
      "Epoch 0: 100%|██████████| 31/31 [00:00<00:00, 52.58batch/s, accuracy=79.5, loss=0.661]\n"
     ]
    },
    {
     "name": "stdout",
     "output_type": "stream",
     "text": [
      "Valid: Loss = 0.1713, Acc = 0.9665\n",
      "\n"
     ]
    },
    {
     "name": "stderr",
     "output_type": "stream",
     "text": [
      "Epoch 1: 100%|██████████| 31/31 [00:00<00:00, 49.15batch/s, accuracy=98, loss=0.106]  \n"
     ]
    },
    {
     "name": "stdout",
     "output_type": "stream",
     "text": [
      "Valid: Loss = 0.06696, Acc = 0.9906\n",
      "\n"
     ]
    },
    {
     "name": "stderr",
     "output_type": "stream",
     "text": [
      "Epoch 2: 100%|██████████| 31/31 [00:00<00:00, 43.68batch/s, accuracy=99.3, loss=0.0593]\n"
     ]
    },
    {
     "name": "stdout",
     "output_type": "stream",
     "text": [
      "Valid: Loss = 0.04689, Acc = 0.9915\n",
      "\n"
     ]
    },
    {
     "name": "stderr",
     "output_type": "stream",
     "text": [
      "Epoch 3: 100%|██████████| 31/31 [00:00<00:00, 43.71batch/s, accuracy=99.3, loss=0.0459]\n"
     ]
    },
    {
     "name": "stdout",
     "output_type": "stream",
     "text": [
      "Valid: Loss = 0.03971, Acc = 0.9915\n",
      "\n"
     ]
    },
    {
     "name": "stderr",
     "output_type": "stream",
     "text": [
      "Epoch 4: 100%|██████████| 31/31 [00:00<00:00, 46.19batch/s, accuracy=99.3, loss=0.0387]\n"
     ]
    },
    {
     "name": "stdout",
     "output_type": "stream",
     "text": [
      "Valid: Loss = 0.0343, Acc = 0.9955\n",
      "\n"
     ]
    },
    {
     "name": "stderr",
     "output_type": "stream",
     "text": [
      "Epoch 5: 100%|██████████| 31/31 [00:00<00:00, 47.75batch/s, accuracy=99.5, loss=0.034] \n"
     ]
    },
    {
     "name": "stdout",
     "output_type": "stream",
     "text": [
      "Valid: Loss = 0.03221, Acc = 0.9954\n",
      "\n"
     ]
    },
    {
     "name": "stderr",
     "output_type": "stream",
     "text": [
      "Epoch 6: 100%|██████████| 31/31 [00:00<00:00, 43.67batch/s, accuracy=99.5, loss=0.0314]\n"
     ]
    },
    {
     "name": "stdout",
     "output_type": "stream",
     "text": [
      "Valid: Loss = 0.03077, Acc = 0.9956\n",
      "\n"
     ]
    },
    {
     "name": "stderr",
     "output_type": "stream",
     "text": [
      "Epoch 7: 100%|██████████| 31/31 [00:00<00:00, 48.12batch/s, accuracy=99.5, loss=0.0293]\n"
     ]
    },
    {
     "name": "stdout",
     "output_type": "stream",
     "text": [
      "Valid: Loss = 0.03003, Acc = 0.9956\n",
      "\n"
     ]
    },
    {
     "name": "stderr",
     "output_type": "stream",
     "text": [
      "Epoch 8: 100%|██████████| 31/31 [00:00<00:00, 55.20batch/s, accuracy=99.5, loss=0.0294]\n"
     ]
    },
    {
     "name": "stdout",
     "output_type": "stream",
     "text": [
      "Valid: Loss = 0.029, Acc = 0.9956\n",
      "\n"
     ]
    },
    {
     "name": "stderr",
     "output_type": "stream",
     "text": [
      "Epoch 9: 100%|██████████| 31/31 [00:00<00:00, 61.31batch/s, accuracy=99.5, loss=0.0271]\n"
     ]
    },
    {
     "name": "stdout",
     "output_type": "stream",
     "text": [
      "Valid: Loss = 0.02815, Acc = 0.9957\n",
      "\n"
     ]
    },
    {
     "name": "stderr",
     "output_type": "stream",
     "text": [
      "Epoch 10: 100%|██████████| 31/31 [00:00<00:00, 62.70batch/s, accuracy=99.6, loss=0.0252]\n"
     ]
    },
    {
     "name": "stdout",
     "output_type": "stream",
     "text": [
      "Valid: Loss = 0.02649, Acc = 0.9959\n",
      "\n"
     ]
    },
    {
     "name": "stderr",
     "output_type": "stream",
     "text": [
      "Epoch 11: 100%|██████████| 31/31 [00:00<00:00, 61.92batch/s, accuracy=99.6, loss=0.0246]\n"
     ]
    },
    {
     "name": "stdout",
     "output_type": "stream",
     "text": [
      "Valid: Loss = 0.02489, Acc = 0.996\n",
      "\n"
     ]
    },
    {
     "name": "stderr",
     "output_type": "stream",
     "text": [
      "Epoch 12: 100%|██████████| 31/31 [00:00<00:00, 53.77batch/s, accuracy=99.6, loss=0.0234]\n"
     ]
    },
    {
     "name": "stdout",
     "output_type": "stream",
     "text": [
      "Valid: Loss = 0.02497, Acc = 0.996\n",
      "\n"
     ]
    },
    {
     "name": "stderr",
     "output_type": "stream",
     "text": [
      "Epoch 13: 100%|██████████| 31/31 [00:00<00:00, 48.34batch/s, accuracy=99.6, loss=0.0222]\n"
     ]
    },
    {
     "name": "stdout",
     "output_type": "stream",
     "text": [
      "Valid: Loss = 0.02473, Acc = 0.9959\n",
      "\n"
     ]
    },
    {
     "name": "stderr",
     "output_type": "stream",
     "text": [
      "Epoch 14: 100%|██████████| 31/31 [00:00<00:00, 40.57batch/s, accuracy=99.6, loss=0.0211]\n"
     ]
    },
    {
     "name": "stdout",
     "output_type": "stream",
     "text": [
      "Valid: Loss = 0.02248, Acc = 0.9959\n",
      "\n"
     ]
    },
    {
     "name": "stderr",
     "output_type": "stream",
     "text": [
      "Epoch 15: 100%|██████████| 31/31 [00:00<00:00, 61.31batch/s, accuracy=99.6, loss=0.0214]\n"
     ]
    },
    {
     "name": "stdout",
     "output_type": "stream",
     "text": [
      "Valid: Loss = 0.02225, Acc = 0.9961\n",
      "\n"
     ]
    },
    {
     "name": "stderr",
     "output_type": "stream",
     "text": [
      "Epoch 16: 100%|██████████| 31/31 [00:00<00:00, 64.76batch/s, accuracy=99.6, loss=0.02]  \n"
     ]
    },
    {
     "name": "stdout",
     "output_type": "stream",
     "text": [
      "Valid: Loss = 0.02154, Acc = 0.996\n",
      "\n"
     ]
    },
    {
     "name": "stderr",
     "output_type": "stream",
     "text": [
      "Epoch 17: 100%|██████████| 31/31 [00:00<00:00, 57.14batch/s, accuracy=99.6, loss=0.0187]\n"
     ]
    },
    {
     "name": "stdout",
     "output_type": "stream",
     "text": [
      "Valid: Loss = 0.01952, Acc = 0.9962\n",
      "\n"
     ]
    },
    {
     "name": "stderr",
     "output_type": "stream",
     "text": [
      "Epoch 18: 100%|██████████| 31/31 [00:00<00:00, 50.95batch/s, accuracy=99.6, loss=0.0185]\n"
     ]
    },
    {
     "name": "stdout",
     "output_type": "stream",
     "text": [
      "Valid: Loss = 0.01952, Acc = 0.9963\n",
      "\n"
     ]
    },
    {
     "name": "stderr",
     "output_type": "stream",
     "text": [
      "Epoch 19: 100%|██████████| 31/31 [00:00<00:00, 54.72batch/s, accuracy=99.6, loss=0.0174]\n"
     ]
    },
    {
     "name": "stdout",
     "output_type": "stream",
     "text": [
      "Valid: Loss = 0.02023, Acc = 0.9963\n",
      "\n"
     ]
    },
    {
     "name": "stderr",
     "output_type": "stream",
     "text": [
      "Epoch 20: 100%|██████████| 31/31 [00:00<00:00, 46.72batch/s, accuracy=99.7, loss=0.0168]\n"
     ]
    },
    {
     "name": "stdout",
     "output_type": "stream",
     "text": [
      "Valid: Loss = 0.01797, Acc = 0.9967\n",
      "\n"
     ]
    },
    {
     "name": "stderr",
     "output_type": "stream",
     "text": [
      "Epoch 21: 100%|██████████| 31/31 [00:00<00:00, 53.38batch/s, accuracy=99.7, loss=0.0174]\n"
     ]
    },
    {
     "name": "stdout",
     "output_type": "stream",
     "text": [
      "Valid: Loss = 0.01705, Acc = 0.9968\n",
      "\n"
     ]
    },
    {
     "name": "stderr",
     "output_type": "stream",
     "text": [
      "Epoch 22: 100%|██████████| 31/31 [00:00<00:00, 35.50batch/s, accuracy=99.7, loss=0.0166]\n"
     ]
    },
    {
     "name": "stdout",
     "output_type": "stream",
     "text": [
      "Valid: Loss = 0.01755, Acc = 0.9967\n",
      "\n"
     ]
    },
    {
     "name": "stderr",
     "output_type": "stream",
     "text": [
      "Epoch 23: 100%|██████████| 31/31 [00:01<00:00, 27.70batch/s, accuracy=99.7, loss=0.0149]\n"
     ]
    },
    {
     "name": "stdout",
     "output_type": "stream",
     "text": [
      "Valid: Loss = 0.01632, Acc = 0.9969\n",
      "\n"
     ]
    },
    {
     "name": "stderr",
     "output_type": "stream",
     "text": [
      "Epoch 24: 100%|██████████| 31/31 [00:00<00:00, 34.16batch/s, accuracy=99.7, loss=0.0144]\n"
     ]
    },
    {
     "name": "stdout",
     "output_type": "stream",
     "text": [
      "Valid: Loss = 0.01615, Acc = 0.9969\n",
      "\n"
     ]
    },
    {
     "name": "stderr",
     "output_type": "stream",
     "text": [
      "Epoch 25: 100%|██████████| 31/31 [00:00<00:00, 34.54batch/s, accuracy=99.7, loss=0.0133]\n"
     ]
    },
    {
     "name": "stdout",
     "output_type": "stream",
     "text": [
      "Valid: Loss = 0.01473, Acc = 0.9972\n",
      "\n"
     ]
    },
    {
     "name": "stderr",
     "output_type": "stream",
     "text": [
      "Epoch 26: 100%|██████████| 31/31 [00:01<00:00, 28.06batch/s, accuracy=99.7, loss=0.0134]\n"
     ]
    },
    {
     "name": "stdout",
     "output_type": "stream",
     "text": [
      "Valid: Loss = 0.01437, Acc = 0.9972\n",
      "\n"
     ]
    },
    {
     "name": "stderr",
     "output_type": "stream",
     "text": [
      "Epoch 27: 100%|██████████| 31/31 [00:00<00:00, 34.97batch/s, accuracy=99.7, loss=0.0142]\n"
     ]
    },
    {
     "name": "stdout",
     "output_type": "stream",
     "text": [
      "Valid: Loss = 0.01513, Acc = 0.9969\n",
      "\n"
     ]
    },
    {
     "name": "stderr",
     "output_type": "stream",
     "text": [
      "Epoch 28: 100%|██████████| 31/31 [00:00<00:00, 35.72batch/s, accuracy=99.7, loss=0.0129] \n"
     ]
    },
    {
     "name": "stdout",
     "output_type": "stream",
     "text": [
      "Valid: Loss = 0.01466, Acc = 0.9972\n",
      "\n"
     ]
    },
    {
     "name": "stderr",
     "output_type": "stream",
     "text": [
      "Epoch 29: 100%|██████████| 31/31 [00:00<00:00, 42.66batch/s, accuracy=99.7, loss=0.0116] \n"
     ]
    },
    {
     "name": "stdout",
     "output_type": "stream",
     "text": [
      "Valid: Loss = 0.01338, Acc = 0.9971\n",
      "\n"
     ]
    },
    {
     "name": "stderr",
     "output_type": "stream",
     "text": [
      "Epoch 30: 100%|██████████| 31/31 [00:00<00:00, 42.93batch/s, accuracy=99.7, loss=0.0124]\n"
     ]
    },
    {
     "name": "stdout",
     "output_type": "stream",
     "text": [
      "Valid: Loss = 0.01246, Acc = 0.9972\n",
      "\n"
     ]
    },
    {
     "name": "stderr",
     "output_type": "stream",
     "text": [
      "Epoch 31: 100%|██████████| 31/31 [00:00<00:00, 57.08batch/s, accuracy=99.7, loss=0.0115] \n"
     ]
    },
    {
     "name": "stdout",
     "output_type": "stream",
     "text": [
      "Valid: Loss = 0.01322, Acc = 0.9972\n",
      "\n"
     ]
    },
    {
     "name": "stderr",
     "output_type": "stream",
     "text": [
      "Epoch 32: 100%|██████████| 31/31 [00:00<00:00, 47.76batch/s, accuracy=99.7, loss=0.0111]\n"
     ]
    },
    {
     "name": "stdout",
     "output_type": "stream",
     "text": [
      "Valid: Loss = 0.01262, Acc = 0.9972\n",
      "\n"
     ]
    },
    {
     "name": "stderr",
     "output_type": "stream",
     "text": [
      "Epoch 33: 100%|██████████| 31/31 [00:00<00:00, 53.50batch/s, accuracy=99.7, loss=0.0112]\n"
     ]
    },
    {
     "name": "stdout",
     "output_type": "stream",
     "text": [
      "Valid: Loss = 0.01096, Acc = 0.9973\n",
      "\n"
     ]
    },
    {
     "name": "stderr",
     "output_type": "stream",
     "text": [
      "Epoch 34: 100%|██████████| 31/31 [00:00<00:00, 58.65batch/s, accuracy=99.7, loss=0.00964]\n"
     ]
    },
    {
     "name": "stdout",
     "output_type": "stream",
     "text": [
      "Valid: Loss = 0.01192, Acc = 0.9975\n",
      "\n"
     ]
    },
    {
     "name": "stderr",
     "output_type": "stream",
     "text": [
      "Epoch 35: 100%|██████████| 31/31 [00:00<00:00, 62.94batch/s, accuracy=99.8, loss=0.0105]\n"
     ]
    },
    {
     "name": "stdout",
     "output_type": "stream",
     "text": [
      "Valid: Loss = 0.01185, Acc = 0.9972\n",
      "\n"
     ]
    },
    {
     "name": "stderr",
     "output_type": "stream",
     "text": [
      "Epoch 36: 100%|██████████| 31/31 [00:00<00:00, 64.74batch/s, accuracy=99.7, loss=0.00979]\n"
     ]
    },
    {
     "name": "stdout",
     "output_type": "stream",
     "text": [
      "Valid: Loss = 0.01416, Acc = 0.9972\n",
      "\n"
     ]
    },
    {
     "name": "stderr",
     "output_type": "stream",
     "text": [
      "Epoch 37: 100%|██████████| 31/31 [00:00<00:00, 57.45batch/s, accuracy=99.7, loss=0.00971]\n"
     ]
    },
    {
     "name": "stdout",
     "output_type": "stream",
     "text": [
      "Valid: Loss = 0.01235, Acc = 0.9974\n",
      "\n"
     ]
    },
    {
     "name": "stderr",
     "output_type": "stream",
     "text": [
      "Epoch 38: 100%|██████████| 31/31 [00:00<00:00, 41.10batch/s, accuracy=99.7, loss=0.00913]\n"
     ]
    },
    {
     "name": "stdout",
     "output_type": "stream",
     "text": [
      "Valid: Loss = 0.01325, Acc = 0.9974\n",
      "\n"
     ]
    },
    {
     "name": "stderr",
     "output_type": "stream",
     "text": [
      "Epoch 39: 100%|██████████| 31/31 [00:00<00:00, 51.21batch/s, accuracy=99.7, loss=0.0101] \n"
     ]
    },
    {
     "name": "stdout",
     "output_type": "stream",
     "text": [
      "Valid: Loss = 0.01354, Acc = 0.9977\n",
      "\n"
     ]
    },
    {
     "name": "stderr",
     "output_type": "stream",
     "text": [
      "Epoch 40: 100%|██████████| 31/31 [00:00<00:00, 47.53batch/s, accuracy=99.8, loss=0.00869]\n"
     ]
    },
    {
     "name": "stdout",
     "output_type": "stream",
     "text": [
      "Valid: Loss = 0.01224, Acc = 0.9976\n",
      "\n"
     ]
    },
    {
     "name": "stderr",
     "output_type": "stream",
     "text": [
      "Epoch 41: 100%|██████████| 31/31 [00:00<00:00, 44.07batch/s, accuracy=99.7, loss=0.00845]\n"
     ]
    },
    {
     "name": "stdout",
     "output_type": "stream",
     "text": [
      "Valid: Loss = 0.01093, Acc = 0.9975\n",
      "\n"
     ]
    },
    {
     "name": "stderr",
     "output_type": "stream",
     "text": [
      "Epoch 42: 100%|██████████| 31/31 [00:00<00:00, 42.72batch/s, accuracy=99.8, loss=0.00849]\n"
     ]
    },
    {
     "name": "stdout",
     "output_type": "stream",
     "text": [
      "Valid: Loss = 0.01103, Acc = 0.9975\n",
      "\n"
     ]
    },
    {
     "name": "stderr",
     "output_type": "stream",
     "text": [
      "Epoch 43: 100%|██████████| 31/31 [00:00<00:00, 50.91batch/s, accuracy=99.8, loss=0.00984]\n"
     ]
    },
    {
     "name": "stdout",
     "output_type": "stream",
     "text": [
      "Valid: Loss = 0.01354, Acc = 0.997\n",
      "\n"
     ]
    },
    {
     "name": "stderr",
     "output_type": "stream",
     "text": [
      "Epoch 44: 100%|██████████| 31/31 [00:00<00:00, 52.49batch/s, accuracy=99.8, loss=0.0102]\n"
     ]
    },
    {
     "name": "stdout",
     "output_type": "stream",
     "text": [
      "Valid: Loss = 0.0119, Acc = 0.9977\n",
      "\n"
     ]
    },
    {
     "name": "stderr",
     "output_type": "stream",
     "text": [
      "Epoch 45: 100%|██████████| 31/31 [00:00<00:00, 65.15batch/s, accuracy=99.8, loss=0.00916]\n"
     ]
    },
    {
     "name": "stdout",
     "output_type": "stream",
     "text": [
      "Valid: Loss = 0.01008, Acc = 0.9975\n",
      "\n"
     ]
    },
    {
     "name": "stderr",
     "output_type": "stream",
     "text": [
      "Epoch 46: 100%|██████████| 31/31 [00:00<00:00, 63.83batch/s, accuracy=99.8, loss=0.00776]\n"
     ]
    },
    {
     "name": "stdout",
     "output_type": "stream",
     "text": [
      "Valid: Loss = 0.01165, Acc = 0.9973\n",
      "\n"
     ]
    },
    {
     "name": "stderr",
     "output_type": "stream",
     "text": [
      "Epoch 47: 100%|██████████| 31/31 [00:00<00:00, 51.98batch/s, accuracy=99.8, loss=0.00904]\n"
     ]
    },
    {
     "name": "stdout",
     "output_type": "stream",
     "text": [
      "Valid: Loss = 0.01143, Acc = 0.998\n",
      "\n"
     ]
    },
    {
     "name": "stderr",
     "output_type": "stream",
     "text": [
      "Epoch 48: 100%|██████████| 31/31 [00:00<00:00, 57.80batch/s, accuracy=99.8, loss=0.00824]\n"
     ]
    },
    {
     "name": "stdout",
     "output_type": "stream",
     "text": [
      "Valid: Loss = 0.009896, Acc = 0.998\n",
      "\n"
     ]
    },
    {
     "name": "stderr",
     "output_type": "stream",
     "text": [
      "Epoch 49: 100%|██████████| 31/31 [00:00<00:00, 68.06batch/s, accuracy=99.8, loss=0.00802]\n"
     ]
    },
    {
     "name": "stdout",
     "output_type": "stream",
     "text": [
      "Valid: Loss = 0.009465, Acc = 0.998\n",
      "\n"
     ]
    },
    {
     "name": "stderr",
     "output_type": "stream",
     "text": [
      "Epoch 50: 100%|██████████| 31/31 [00:00<00:00, 64.80batch/s, accuracy=99.8, loss=0.00715]\n"
     ]
    },
    {
     "name": "stdout",
     "output_type": "stream",
     "text": [
      "Valid: Loss = 0.0107, Acc = 0.998\n",
      "\n"
     ]
    },
    {
     "name": "stderr",
     "output_type": "stream",
     "text": [
      "Epoch 51: 100%|██████████| 31/31 [00:00<00:00, 64.75batch/s, accuracy=99.8, loss=0.00722]\n"
     ]
    },
    {
     "name": "stdout",
     "output_type": "stream",
     "text": [
      "Valid: Loss = 0.009298, Acc = 0.9979\n",
      "\n"
     ]
    },
    {
     "name": "stderr",
     "output_type": "stream",
     "text": [
      "Epoch 52: 100%|██████████| 31/31 [00:00<00:00, 58.20batch/s, accuracy=99.8, loss=0.00722]\n"
     ]
    },
    {
     "name": "stdout",
     "output_type": "stream",
     "text": [
      "Valid: Loss = 0.009683, Acc = 0.9979\n",
      "\n"
     ]
    },
    {
     "name": "stderr",
     "output_type": "stream",
     "text": [
      "Epoch 53: 100%|██████████| 31/31 [00:00<00:00, 58.72batch/s, accuracy=99.8, loss=0.00767]\n"
     ]
    },
    {
     "name": "stdout",
     "output_type": "stream",
     "text": [
      "Valid: Loss = 0.01085, Acc = 0.998\n",
      "\n"
     ]
    },
    {
     "name": "stderr",
     "output_type": "stream",
     "text": [
      "Epoch 54: 100%|██████████| 31/31 [00:00<00:00, 65.02batch/s, accuracy=99.8, loss=0.00716]\n"
     ]
    },
    {
     "name": "stdout",
     "output_type": "stream",
     "text": [
      "Valid: Loss = 0.01012, Acc = 0.9977\n",
      "\n"
     ]
    },
    {
     "name": "stderr",
     "output_type": "stream",
     "text": [
      "Epoch 55: 100%|██████████| 31/31 [00:00<00:00, 65.44batch/s, accuracy=99.8, loss=0.00661]\n"
     ]
    },
    {
     "name": "stdout",
     "output_type": "stream",
     "text": [
      "Valid: Loss = 0.009944, Acc = 0.9985\n",
      "\n"
     ]
    },
    {
     "name": "stderr",
     "output_type": "stream",
     "text": [
      "Epoch 56: 100%|██████████| 31/31 [00:00<00:00, 61.24batch/s, accuracy=99.8, loss=0.00574]\n"
     ]
    },
    {
     "name": "stdout",
     "output_type": "stream",
     "text": [
      "Valid: Loss = 0.009959, Acc = 0.9983\n",
      "\n"
     ]
    },
    {
     "name": "stderr",
     "output_type": "stream",
     "text": [
      "Epoch 57: 100%|██████████| 31/31 [00:00<00:00, 56.49batch/s, accuracy=99.8, loss=0.00836]\n"
     ]
    },
    {
     "name": "stdout",
     "output_type": "stream",
     "text": [
      "Valid: Loss = 0.01033, Acc = 0.9983\n",
      "\n"
     ]
    },
    {
     "name": "stderr",
     "output_type": "stream",
     "text": [
      "Epoch 58: 100%|██████████| 31/31 [00:00<00:00, 56.82batch/s, accuracy=99.8, loss=0.00619]\n"
     ]
    },
    {
     "name": "stdout",
     "output_type": "stream",
     "text": [
      "Valid: Loss = 0.009306, Acc = 0.9981\n",
      "\n"
     ]
    },
    {
     "name": "stderr",
     "output_type": "stream",
     "text": [
      "Epoch 59: 100%|██████████| 31/31 [00:00<00:00, 64.47batch/s, accuracy=99.8, loss=0.00553]\n"
     ]
    },
    {
     "name": "stdout",
     "output_type": "stream",
     "text": [
      "Valid: Loss = 0.009219, Acc = 0.9984\n",
      "\n"
     ]
    },
    {
     "name": "stderr",
     "output_type": "stream",
     "text": [
      "Epoch 60: 100%|██████████| 31/31 [00:00<00:00, 47.14batch/s, accuracy=99.8, loss=0.00565]\n"
     ]
    },
    {
     "name": "stdout",
     "output_type": "stream",
     "text": [
      "Valid: Loss = 0.008786, Acc = 0.9983\n",
      "\n"
     ]
    },
    {
     "name": "stderr",
     "output_type": "stream",
     "text": [
      "Epoch 61: 100%|██████████| 31/31 [00:00<00:00, 51.38batch/s, accuracy=99.8, loss=0.00544]\n"
     ]
    },
    {
     "name": "stdout",
     "output_type": "stream",
     "text": [
      "Valid: Loss = 0.009263, Acc = 0.9985\n",
      "\n"
     ]
    },
    {
     "name": "stderr",
     "output_type": "stream",
     "text": [
      "Epoch 62: 100%|██████████| 31/31 [00:00<00:00, 41.30batch/s, accuracy=99.9, loss=0.00497]\n"
     ]
    },
    {
     "name": "stdout",
     "output_type": "stream",
     "text": [
      "Valid: Loss = 0.009043, Acc = 0.9985\n",
      "\n"
     ]
    },
    {
     "name": "stderr",
     "output_type": "stream",
     "text": [
      "Epoch 63: 100%|██████████| 31/31 [00:00<00:00, 46.96batch/s, accuracy=99.9, loss=0.0054] \n"
     ]
    },
    {
     "name": "stdout",
     "output_type": "stream",
     "text": [
      "Valid: Loss = 0.009382, Acc = 0.9984\n",
      "\n"
     ]
    },
    {
     "name": "stderr",
     "output_type": "stream",
     "text": [
      "Epoch 64: 100%|██████████| 31/31 [00:00<00:00, 55.41batch/s, accuracy=99.8, loss=0.00525]\n"
     ]
    },
    {
     "name": "stdout",
     "output_type": "stream",
     "text": [
      "Valid: Loss = 0.01855, Acc = 0.9982\n",
      "\n"
     ]
    },
    {
     "name": "stderr",
     "output_type": "stream",
     "text": [
      "Epoch 65: 100%|██████████| 31/31 [00:00<00:00, 61.55batch/s, accuracy=99.8, loss=0.00729]\n"
     ]
    },
    {
     "name": "stdout",
     "output_type": "stream",
     "text": [
      "Valid: Loss = 0.01703, Acc = 0.998\n",
      "\n"
     ]
    },
    {
     "name": "stderr",
     "output_type": "stream",
     "text": [
      "Epoch 66: 100%|██████████| 31/31 [00:00<00:00, 68.46batch/s, accuracy=99.8, loss=0.00696]\n"
     ]
    },
    {
     "name": "stdout",
     "output_type": "stream",
     "text": [
      "Valid: Loss = 0.0162, Acc = 0.9984\n",
      "\n"
     ]
    },
    {
     "name": "stderr",
     "output_type": "stream",
     "text": [
      "Epoch 67: 100%|██████████| 31/31 [00:00<00:00, 60.70batch/s, accuracy=99.9, loss=0.00541]\n"
     ]
    },
    {
     "name": "stdout",
     "output_type": "stream",
     "text": [
      "Valid: Loss = 0.01623, Acc = 0.9985\n",
      "\n"
     ]
    },
    {
     "name": "stderr",
     "output_type": "stream",
     "text": [
      "Epoch 68: 100%|██████████| 31/31 [00:00<00:00, 59.38batch/s, accuracy=99.9, loss=0.0057] \n"
     ]
    },
    {
     "name": "stdout",
     "output_type": "stream",
     "text": [
      "Valid: Loss = 0.01625, Acc = 0.9983\n",
      "\n"
     ]
    },
    {
     "name": "stderr",
     "output_type": "stream",
     "text": [
      "Epoch 69: 100%|██████████| 31/31 [00:00<00:00, 64.05batch/s, accuracy=99.8, loss=0.00688]\n"
     ]
    },
    {
     "name": "stdout",
     "output_type": "stream",
     "text": [
      "Valid: Loss = 0.01653, Acc = 0.9985\n",
      "\n"
     ]
    },
    {
     "name": "stderr",
     "output_type": "stream",
     "text": [
      "Epoch 70: 100%|██████████| 31/31 [00:00<00:00, 62.99batch/s, accuracy=99.8, loss=0.00608]\n"
     ]
    },
    {
     "name": "stdout",
     "output_type": "stream",
     "text": [
      "Valid: Loss = 0.01522, Acc = 0.9983\n",
      "\n"
     ]
    },
    {
     "name": "stderr",
     "output_type": "stream",
     "text": [
      "Epoch 71: 100%|██████████| 31/31 [00:00<00:00, 67.58batch/s, accuracy=99.9, loss=0.00568]\n"
     ]
    },
    {
     "name": "stdout",
     "output_type": "stream",
     "text": [
      "Valid: Loss = 0.01508, Acc = 0.9982\n",
      "\n"
     ]
    },
    {
     "name": "stderr",
     "output_type": "stream",
     "text": [
      "Epoch 72: 100%|██████████| 31/31 [00:00<00:00, 54.15batch/s, accuracy=99.9, loss=0.0049] \n"
     ]
    },
    {
     "name": "stdout",
     "output_type": "stream",
     "text": [
      "Valid: Loss = 0.01503, Acc = 0.9988\n",
      "\n"
     ]
    },
    {
     "name": "stderr",
     "output_type": "stream",
     "text": [
      "Epoch 73: 100%|██████████| 31/31 [00:00<00:00, 60.46batch/s, accuracy=99.9, loss=0.00503]\n"
     ]
    },
    {
     "name": "stdout",
     "output_type": "stream",
     "text": [
      "Valid: Loss = 0.01346, Acc = 0.9988\n",
      "\n"
     ]
    },
    {
     "name": "stderr",
     "output_type": "stream",
     "text": [
      "Epoch 74: 100%|██████████| 31/31 [00:00<00:00, 68.04batch/s, accuracy=99.9, loss=0.00523]\n"
     ]
    },
    {
     "name": "stdout",
     "output_type": "stream",
     "text": [
      "Valid: Loss = 0.0131, Acc = 0.9987\n",
      "\n"
     ]
    },
    {
     "name": "stderr",
     "output_type": "stream",
     "text": [
      "Epoch 75: 100%|██████████| 31/31 [00:00<00:00, 65.89batch/s, accuracy=99.9, loss=0.00432]\n"
     ]
    },
    {
     "name": "stdout",
     "output_type": "stream",
     "text": [
      "Valid: Loss = 0.01263, Acc = 0.9987\n",
      "\n"
     ]
    },
    {
     "name": "stderr",
     "output_type": "stream",
     "text": [
      "Epoch 76: 100%|██████████| 31/31 [00:00<00:00, 65.58batch/s, accuracy=99.9, loss=0.00454]\n"
     ]
    },
    {
     "name": "stdout",
     "output_type": "stream",
     "text": [
      "Valid: Loss = 0.01263, Acc = 0.9989\n",
      "\n"
     ]
    },
    {
     "name": "stderr",
     "output_type": "stream",
     "text": [
      "Epoch 77: 100%|██████████| 31/31 [00:00<00:00, 59.01batch/s, accuracy=99.9, loss=0.00413]\n"
     ]
    },
    {
     "name": "stdout",
     "output_type": "stream",
     "text": [
      "Valid: Loss = 0.01116, Acc = 0.9989\n",
      "\n"
     ]
    },
    {
     "name": "stderr",
     "output_type": "stream",
     "text": [
      "Epoch 78: 100%|██████████| 31/31 [00:00<00:00, 58.74batch/s, accuracy=99.9, loss=0.00428]\n"
     ]
    },
    {
     "name": "stdout",
     "output_type": "stream",
     "text": [
      "Valid: Loss = 0.01219, Acc = 0.9985\n",
      "\n"
     ]
    },
    {
     "name": "stderr",
     "output_type": "stream",
     "text": [
      "Epoch 79: 100%|██████████| 31/31 [00:00<00:00, 67.86batch/s, accuracy=99.9, loss=0.00389]\n"
     ]
    },
    {
     "name": "stdout",
     "output_type": "stream",
     "text": [
      "Valid: Loss = 0.01107, Acc = 0.9989\n",
      "\n"
     ]
    },
    {
     "name": "stderr",
     "output_type": "stream",
     "text": [
      "Epoch 80: 100%|██████████| 31/31 [00:00<00:00, 63.87batch/s, accuracy=99.9, loss=0.00369]\n"
     ]
    },
    {
     "name": "stdout",
     "output_type": "stream",
     "text": [
      "Valid: Loss = 0.0111, Acc = 0.9989\n",
      "\n"
     ]
    },
    {
     "name": "stderr",
     "output_type": "stream",
     "text": [
      "Epoch 81: 100%|██████████| 31/31 [00:00<00:00, 67.72batch/s, accuracy=99.9, loss=0.00403]\n"
     ]
    },
    {
     "name": "stdout",
     "output_type": "stream",
     "text": [
      "Valid: Loss = 0.01129, Acc = 0.9986\n",
      "\n"
     ]
    },
    {
     "name": "stderr",
     "output_type": "stream",
     "text": [
      "Epoch 82: 100%|██████████| 31/31 [00:00<00:00, 47.21batch/s, accuracy=99.9, loss=0.00444]\n"
     ]
    },
    {
     "name": "stdout",
     "output_type": "stream",
     "text": [
      "Valid: Loss = 0.0106, Acc = 0.9991\n",
      "\n"
     ]
    },
    {
     "name": "stderr",
     "output_type": "stream",
     "text": [
      "Epoch 83: 100%|██████████| 31/31 [00:00<00:00, 50.38batch/s, accuracy=99.9, loss=0.0036] \n"
     ]
    },
    {
     "name": "stdout",
     "output_type": "stream",
     "text": [
      "Valid: Loss = 0.01003, Acc = 0.9989\n",
      "\n"
     ]
    },
    {
     "name": "stderr",
     "output_type": "stream",
     "text": [
      "Epoch 84: 100%|██████████| 31/31 [00:00<00:00, 48.02batch/s, accuracy=99.9, loss=0.00432]\n"
     ]
    },
    {
     "name": "stdout",
     "output_type": "stream",
     "text": [
      "Valid: Loss = 0.009432, Acc = 0.999\n",
      "\n"
     ]
    },
    {
     "name": "stderr",
     "output_type": "stream",
     "text": [
      "Epoch 85: 100%|██████████| 31/31 [00:00<00:00, 46.62batch/s, accuracy=99.9, loss=0.004]  \n"
     ]
    },
    {
     "name": "stdout",
     "output_type": "stream",
     "text": [
      "Valid: Loss = 0.009324, Acc = 0.999\n",
      "\n"
     ]
    },
    {
     "name": "stderr",
     "output_type": "stream",
     "text": [
      "Epoch 86: 100%|██████████| 31/31 [00:00<00:00, 48.89batch/s, accuracy=99.9, loss=0.00411]\n"
     ]
    },
    {
     "name": "stdout",
     "output_type": "stream",
     "text": [
      "Valid: Loss = 0.01028, Acc = 0.9989\n",
      "\n"
     ]
    },
    {
     "name": "stderr",
     "output_type": "stream",
     "text": [
      "Epoch 87: 100%|██████████| 31/31 [00:00<00:00, 43.88batch/s, accuracy=99.9, loss=0.00593]\n"
     ]
    },
    {
     "name": "stdout",
     "output_type": "stream",
     "text": [
      "Valid: Loss = 0.009605, Acc = 0.9989\n",
      "\n"
     ]
    },
    {
     "name": "stderr",
     "output_type": "stream",
     "text": [
      "Epoch 88: 100%|██████████| 31/31 [00:01<00:00, 28.79batch/s, accuracy=99.9, loss=0.0052] \n"
     ]
    },
    {
     "name": "stdout",
     "output_type": "stream",
     "text": [
      "Valid: Loss = 0.008275, Acc = 0.9989\n",
      "\n"
     ]
    },
    {
     "name": "stderr",
     "output_type": "stream",
     "text": [
      "Epoch 89: 100%|██████████| 31/31 [00:00<00:00, 34.44batch/s, accuracy=99.9, loss=0.00438]\n"
     ]
    },
    {
     "name": "stdout",
     "output_type": "stream",
     "text": [
      "Valid: Loss = 0.008305, Acc = 0.9989\n",
      "\n"
     ]
    },
    {
     "name": "stderr",
     "output_type": "stream",
     "text": [
      "Epoch 90: 100%|██████████| 31/31 [00:00<00:00, 62.55batch/s, accuracy=99.9, loss=0.00488]\n"
     ]
    },
    {
     "name": "stdout",
     "output_type": "stream",
     "text": [
      "Valid: Loss = 0.01221, Acc = 0.9992\n",
      "\n"
     ]
    },
    {
     "name": "stderr",
     "output_type": "stream",
     "text": [
      "Epoch 91: 100%|██████████| 31/31 [00:00<00:00, 60.27batch/s, accuracy=99.9, loss=0.00378]\n"
     ]
    },
    {
     "name": "stdout",
     "output_type": "stream",
     "text": [
      "Valid: Loss = 0.01111, Acc = 0.9989\n",
      "\n"
     ]
    },
    {
     "name": "stderr",
     "output_type": "stream",
     "text": [
      "Epoch 92: 100%|██████████| 31/31 [00:00<00:00, 50.12batch/s, accuracy=99.9, loss=0.00341]\n"
     ]
    },
    {
     "name": "stdout",
     "output_type": "stream",
     "text": [
      "Valid: Loss = 0.01057, Acc = 0.9989\n",
      "\n"
     ]
    },
    {
     "name": "stderr",
     "output_type": "stream",
     "text": [
      "Epoch 93: 100%|██████████| 31/31 [00:00<00:00, 59.66batch/s, accuracy=99.9, loss=0.00345]\n"
     ]
    },
    {
     "name": "stdout",
     "output_type": "stream",
     "text": [
      "Valid: Loss = 0.01039, Acc = 0.9988\n",
      "\n"
     ]
    },
    {
     "name": "stderr",
     "output_type": "stream",
     "text": [
      "Epoch 94: 100%|██████████| 31/31 [00:00<00:00, 66.30batch/s, accuracy=99.9, loss=0.00399]\n"
     ]
    },
    {
     "name": "stdout",
     "output_type": "stream",
     "text": [
      "Valid: Loss = 0.01094, Acc = 0.9989\n",
      "\n"
     ]
    },
    {
     "name": "stderr",
     "output_type": "stream",
     "text": [
      "Epoch 95: 100%|██████████| 31/31 [00:00<00:00, 65.56batch/s, accuracy=99.9, loss=0.00468]\n"
     ]
    },
    {
     "name": "stdout",
     "output_type": "stream",
     "text": [
      "Valid: Loss = 0.01282, Acc = 0.9989\n",
      "\n"
     ]
    },
    {
     "name": "stderr",
     "output_type": "stream",
     "text": [
      "Epoch 96: 100%|██████████| 31/31 [00:00<00:00, 39.55batch/s, accuracy=99.9, loss=0.00588]\n"
     ]
    },
    {
     "name": "stdout",
     "output_type": "stream",
     "text": [
      "Valid: Loss = 0.01062, Acc = 0.9989\n",
      "\n"
     ]
    },
    {
     "name": "stderr",
     "output_type": "stream",
     "text": [
      "Epoch 97: 100%|██████████| 31/31 [00:00<00:00, 40.68batch/s, accuracy=99.9, loss=0.00379]\n"
     ]
    },
    {
     "name": "stdout",
     "output_type": "stream",
     "text": [
      "Valid: Loss = 0.008892, Acc = 0.999\n",
      "\n"
     ]
    },
    {
     "name": "stderr",
     "output_type": "stream",
     "text": [
      "Epoch 98: 100%|██████████| 31/31 [00:00<00:00, 49.03batch/s, accuracy=99.9, loss=0.0038] \n"
     ]
    },
    {
     "name": "stdout",
     "output_type": "stream",
     "text": [
      "Valid: Loss = 0.009465, Acc = 0.9989\n",
      "\n"
     ]
    },
    {
     "name": "stderr",
     "output_type": "stream",
     "text": [
      "Epoch 99: 100%|██████████| 31/31 [00:00<00:00, 55.11batch/s, accuracy=99.9, loss=0.00308]\n"
     ]
    },
    {
     "name": "stdout",
     "output_type": "stream",
     "text": [
      "Valid: Loss = 0.008654, Acc = 0.9991\n",
      "\n"
     ]
    }
   ],
   "source": [
    "for epoch in range(num_epoch):\n",
    "    modl , loss_train , acc_train = train_one_epoch(model,\n",
    "                                                    train_loader,\n",
    "                                                    loss_fn,\n",
    "                                                    optimizer,\n",
    "                                                    epoch)\n",
    "    loss_train_hist.append(loss_train)\n",
    "    acc_train_hist.append(acc_train)\n",
    "    \n",
    "    \n",
    "    loss_valid, acc_valid = evaluate(model,\n",
    "                                     valid_loader,\n",
    "                                     loss_fn)\n",
    "    loss_valid_hist.append(loss_valid)\n",
    "    acc_valid_hist.append(acc_valid)\n",
    "    \n",
    "    if loss_valid < best_valid_loss:\n",
    "        torch.save(modl, 'model.pt')\n",
    "        best_valid_loss = loss_valid\n",
    "    \n",
    "    print(f'Valid: Loss = {loss_valid:.4}, Acc = {acc_valid:.4}\\n')"
   ]
  },
  {
   "cell_type": "markdown",
   "metadata": {
    "id": "NGnaneBEC4Yh"
   },
   "source": [
    "# **Plot📉**"
   ]
  },
  {
   "cell_type": "markdown",
   "metadata": {
    "id": "A5xIm3rpDPVw"
   },
   "source": [
    "### Loss"
   ]
  },
  {
   "cell_type": "code",
   "execution_count": 35,
   "metadata": {
    "id": "dCPslWIiDJbB"
   },
   "outputs": [
    {
     "data": {
      "image/png": "[encoded data removed]",
      "text/plain": [
       "<Figure size 432x288 with 1 Axes>"
      ]
     },
     "metadata": {
      "needs_background": "light"
     },
     "output_type": "display_data"
    }
   ],
   "source": [
    "plt.plot(loss_train_hist , color='b' , label='Train Loss');\n",
    "plt.plot(loss_valid_hist , color='orange' , label='valid Loss');\n",
    "plt.title('Good Fit')\n",
    "plt.legend();"
   ]
  },
  {
   "cell_type": "markdown",
   "metadata": {
    "id": "deDxamPvDRFI"
   },
   "source": [
    "### Accuracy"
   ]
  },
  {
   "cell_type": "code",
   "execution_count": 36,
   "metadata": {
    "id": "x8NfbN_BDR1g"
   },
   "outputs": [
    {
     "data": {
      "image/png": "[encoded data removed]",
      "text/plain": [
       "<Figure size 432x288 with 1 Axes>"
      ]
     },
     "metadata": {
      "needs_background": "light"
     },
     "output_type": "display_data"
    }
   ],
   "source": [
    "plt.plot(acc_train_hist , color='b' , label='Train accuracy');\n",
    "plt.plot(acc_valid_hist , color='orange' , label='valid accuracy');\n",
    "plt.legend();"
   ]
  },
  {
   "cell_type": "markdown",
   "metadata": {
    "id": "wHA4zxTkDVFY"
   },
   "source": [
    "# **Save & Prediction🔎**"
   ]
  },
  {
   "cell_type": "code",
   "execution_count": 37,
   "metadata": {
    "id": "_1nsjt-VDiLZ"
   },
   "outputs": [],
   "source": [
    "## (Save model.pt) --> Done"
   ]
  },
  {
   "cell_type": "code",
   "execution_count": 38,
   "metadata": {
    "id": "_sMjkWOqDjHo"
   },
   "outputs": [],
   "source": [
    "test_set = test_set.values"
   ]
  },
  {
   "cell_type": "code",
   "execution_count": 39,
   "metadata": {},
   "outputs": [],
   "source": [
    "test_set = torch.FloatTensor(test_set)"
   ]
  },
  {
   "cell_type": "code",
   "execution_count": 40,
   "metadata": {},
   "outputs": [],
   "source": [
    "test_set = (test_set - mu) / std"
   ]
  },
  {
   "cell_type": "code",
   "execution_count": 41,
   "metadata": {},
   "outputs": [],
   "source": [
    "test_set = test_set.to(device)"
   ]
  },
  {
   "cell_type": "code",
   "execution_count": 42,
   "metadata": {},
   "outputs": [
    {
     "data": {
      "text/plain": [
       "tensor([0, 1, 2, 3, 4, 5, 6])"
      ]
     },
     "execution_count": 42,
     "metadata": {},
     "output_type": "execute_result"
    }
   ],
   "source": [
    "pred = model(test_set)\n",
    "pred = torch.argmax(pred , dim=1)\n",
    "pred.unique()"
   ]
  },
  {
   "cell_type": "code",
   "execution_count": 43,
   "metadata": {},
   "outputs": [
    {
     "data": {
      "image/png": "[encoded data removed]",
      "text/plain": [
       "<Figure size 432x288 with 1 Axes>"
      ]
     },
     "metadata": {
      "needs_background": "light"
     },
     "output_type": "display_data"
    }
   ],
   "source": [
    "sns.kdeplot(pred , alpha=0.5 , color='b' , fill=True);\n",
    "sns.kdeplot(y_valid , alpha=0.5 , color='b', fill=True);\n",
    "sns.kdeplot(y_train , alpha=0.5 , color='b', fill=True);"
   ]
  },
  {
   "cell_type": "code",
   "execution_count": 44,
   "metadata": {},
   "outputs": [],
   "source": [
    "prediction = pred.cpu().detach().numpy()\n",
    "\n",
    "df_pred = pd.DataFrame(prediction , columns=['Pred'])\n",
    "df_pred.to_csv(\"Prediction\",index=False)"
   ]
  },
  {
   "cell_type": "markdown",
   "metadata": {
    "id": "KmwxbIyjDlxw"
   },
   "source": [
    "# **Bonus🌟**"
   ]
  },
  {
   "cell_type": "code",
   "execution_count": 92,
   "metadata": {},
   "outputs": [],
   "source": [
    "num_features = 9\n",
    "num_classes = 7\n",
    "h1 = 200\n",
    "h2 = 100\n",
    "h3 = 40\n",
    "h4 = 12"
   ]
  },
  {
   "cell_type": "code",
   "execution_count": 93,
   "metadata": {},
   "outputs": [],
   "source": [
    "model = nn.Sequential(\n",
    "                        nn.Linear(num_features , h1),\n",
    "                        nn.ReLU(),\n",
    "\n",
    "                        nn.Linear(h1 , h2),\n",
    "                        nn.ReLU(),\n",
    "\n",
    "                        nn.Linear(h2 , h3),\n",
    "                        nn.ReLU(),\n",
    "                        \n",
    "                        nn.Linear(h3 , h4),\n",
    "                        nn.ReLU(),\n",
    "                        \n",
    "                        nn.Linear(h4 , num_classes)\n",
    "                              )\n",
    "\n",
    "model = model.to(device)\n",
    "\n",
    "optimizer = optim.SGD(model.parameters() , lr=0.3 , momentum=0.9)"
   ]
  },
  {
   "cell_type": "code",
   "execution_count": 94,
   "metadata": {},
   "outputs": [],
   "source": [
    "num_epoch = 50"
   ]
  },
  {
   "cell_type": "code",
   "execution_count": 95,
   "metadata": {},
   "outputs": [],
   "source": [
    "loss_train_hist = []\n",
    "loss_valid_hist = []\n",
    "acc_train_hist = []\n",
    "acc_valid_hist = []"
   ]
  },
  {
   "cell_type": "code",
   "execution_count": 96,
   "metadata": {
    "collapsed": true,
    "jupyter": {
     "outputs_hidden": true
    },
    "tags": []
   },
   "outputs": [
    {
     "name": "stderr",
     "output_type": "stream",
     "text": [
      "Epoch 0: 100%|██████████| 31/31 [00:02<00:00, 13.06batch/s, accuracy=78.6, loss=0.654]\n"
     ]
    },
    {
     "name": "stdout",
     "output_type": "stream",
     "text": [
      "Valid: Loss = 0.1646, Acc = 0.9382\n",
      "\n"
     ]
    },
    {
     "name": "stderr",
     "output_type": "stream",
     "text": [
      "Epoch 1: 100%|██████████| 31/31 [00:02<00:00, 12.62batch/s, accuracy=97.5, loss=0.104]\n"
     ]
    },
    {
     "name": "stdout",
     "output_type": "stream",
     "text": [
      "Valid: Loss = 0.06649, Acc = 0.9811\n",
      "\n"
     ]
    },
    {
     "name": "stderr",
     "output_type": "stream",
     "text": [
      "Epoch 2: 100%|██████████| 31/31 [00:02<00:00, 12.55batch/s, accuracy=99.3, loss=0.0451]\n"
     ]
    },
    {
     "name": "stdout",
     "output_type": "stream",
     "text": [
      "Valid: Loss = 0.03513, Acc = 0.9941\n",
      "\n"
     ]
    },
    {
     "name": "stderr",
     "output_type": "stream",
     "text": [
      "Epoch 3: 100%|██████████| 31/31 [00:02<00:00, 11.45batch/s, accuracy=99.2, loss=0.0411]\n"
     ]
    },
    {
     "name": "stdout",
     "output_type": "stream",
     "text": [
      "Valid: Loss = 0.05672, Acc = 0.9868\n",
      "\n"
     ]
    },
    {
     "name": "stderr",
     "output_type": "stream",
     "text": [
      "Epoch 4: 100%|██████████| 31/31 [00:02<00:00, 13.27batch/s, accuracy=99.4, loss=0.0343]\n"
     ]
    },
    {
     "name": "stdout",
     "output_type": "stream",
     "text": [
      "Valid: Loss = 0.02849, Acc = 0.9959\n",
      "\n"
     ]
    },
    {
     "name": "stderr",
     "output_type": "stream",
     "text": [
      "Epoch 5: 100%|██████████| 31/31 [00:02<00:00, 13.21batch/s, accuracy=99.5, loss=0.0284]\n"
     ]
    },
    {
     "name": "stdout",
     "output_type": "stream",
     "text": [
      "Valid: Loss = 0.02706, Acc = 0.9956\n",
      "\n"
     ]
    },
    {
     "name": "stderr",
     "output_type": "stream",
     "text": [
      "Epoch 6: 100%|██████████| 31/31 [00:02<00:00, 13.00batch/s, accuracy=99.5, loss=0.0261]\n"
     ]
    },
    {
     "name": "stdout",
     "output_type": "stream",
     "text": [
      "Valid: Loss = 0.02547, Acc = 0.9956\n",
      "\n"
     ]
    },
    {
     "name": "stderr",
     "output_type": "stream",
     "text": [
      "Epoch 7: 100%|██████████| 31/31 [00:02<00:00, 13.33batch/s, accuracy=99.5, loss=0.0248]\n"
     ]
    },
    {
     "name": "stdout",
     "output_type": "stream",
     "text": [
      "Valid: Loss = 0.02392, Acc = 0.9957\n",
      "\n"
     ]
    },
    {
     "name": "stderr",
     "output_type": "stream",
     "text": [
      "Epoch 8: 100%|██████████| 31/31 [00:02<00:00, 11.79batch/s, accuracy=99.5, loss=0.0225]\n"
     ]
    },
    {
     "name": "stdout",
     "output_type": "stream",
     "text": [
      "Valid: Loss = 0.02363, Acc = 0.9957\n",
      "\n"
     ]
    },
    {
     "name": "stderr",
     "output_type": "stream",
     "text": [
      "Epoch 9: 100%|██████████| 31/31 [00:02<00:00, 12.70batch/s, accuracy=99.6, loss=0.0202]\n"
     ]
    },
    {
     "name": "stdout",
     "output_type": "stream",
     "text": [
      "Valid: Loss = 0.02196, Acc = 0.9963\n",
      "\n"
     ]
    },
    {
     "name": "stderr",
     "output_type": "stream",
     "text": [
      "Epoch 10: 100%|██████████| 31/31 [00:02<00:00, 13.21batch/s, accuracy=99.6, loss=0.0203]\n"
     ]
    },
    {
     "name": "stdout",
     "output_type": "stream",
     "text": [
      "Valid: Loss = 0.02041, Acc = 0.9964\n",
      "\n"
     ]
    },
    {
     "name": "stderr",
     "output_type": "stream",
     "text": [
      "Epoch 11: 100%|██████████| 31/31 [00:02<00:00, 12.74batch/s, accuracy=99.6, loss=0.0179]\n"
     ]
    },
    {
     "name": "stdout",
     "output_type": "stream",
     "text": [
      "Valid: Loss = 0.01833, Acc = 0.9964\n",
      "\n"
     ]
    },
    {
     "name": "stderr",
     "output_type": "stream",
     "text": [
      "Epoch 12: 100%|██████████| 31/31 [00:02<00:00, 12.86batch/s, accuracy=99.6, loss=0.0163]\n"
     ]
    },
    {
     "name": "stdout",
     "output_type": "stream",
     "text": [
      "Valid: Loss = 0.02173, Acc = 0.9963\n",
      "\n"
     ]
    },
    {
     "name": "stderr",
     "output_type": "stream",
     "text": [
      "Epoch 13: 100%|██████████| 31/31 [00:02<00:00, 12.07batch/s, accuracy=99.6, loss=0.0156]\n"
     ]
    },
    {
     "name": "stdout",
     "output_type": "stream",
     "text": [
      "Valid: Loss = 0.01669, Acc = 0.9968\n",
      "\n"
     ]
    },
    {
     "name": "stderr",
     "output_type": "stream",
     "text": [
      "Epoch 14: 100%|██████████| 31/31 [00:02<00:00, 12.20batch/s, accuracy=99.7, loss=0.0126]\n"
     ]
    },
    {
     "name": "stdout",
     "output_type": "stream",
     "text": [
      "Valid: Loss = 0.01464, Acc = 0.9971\n",
      "\n"
     ]
    },
    {
     "name": "stderr",
     "output_type": "stream",
     "text": [
      "Epoch 15: 100%|██████████| 31/31 [00:02<00:00, 13.41batch/s, accuracy=99.7, loss=0.0136]\n"
     ]
    },
    {
     "name": "stdout",
     "output_type": "stream",
     "text": [
      "Valid: Loss = 0.01363, Acc = 0.9969\n",
      "\n"
     ]
    },
    {
     "name": "stderr",
     "output_type": "stream",
     "text": [
      "Epoch 16: 100%|██████████| 31/31 [00:02<00:00, 13.38batch/s, accuracy=99.7, loss=0.0148]\n"
     ]
    },
    {
     "name": "stdout",
     "output_type": "stream",
     "text": [
      "Valid: Loss = 0.01878, Acc = 0.9966\n",
      "\n"
     ]
    },
    {
     "name": "stderr",
     "output_type": "stream",
     "text": [
      "Epoch 17: 100%|██████████| 31/31 [00:02<00:00, 12.88batch/s, accuracy=99.7, loss=0.0136]\n"
     ]
    },
    {
     "name": "stdout",
     "output_type": "stream",
     "text": [
      "Valid: Loss = 0.01877, Acc = 0.9968\n",
      "\n"
     ]
    },
    {
     "name": "stderr",
     "output_type": "stream",
     "text": [
      "Epoch 18: 100%|██████████| 31/31 [00:02<00:00, 12.83batch/s, accuracy=99.7, loss=0.0119]\n"
     ]
    },
    {
     "name": "stdout",
     "output_type": "stream",
     "text": [
      "Valid: Loss = 0.01837, Acc = 0.997\n",
      "\n"
     ]
    },
    {
     "name": "stderr",
     "output_type": "stream",
     "text": [
      "Epoch 19: 100%|██████████| 31/31 [00:02<00:00, 12.13batch/s, accuracy=99.7, loss=0.0102] \n"
     ]
    },
    {
     "name": "stdout",
     "output_type": "stream",
     "text": [
      "Valid: Loss = 0.01453, Acc = 0.9976\n",
      "\n"
     ]
    },
    {
     "name": "stderr",
     "output_type": "stream",
     "text": [
      "Epoch 20: 100%|██████████| 31/31 [00:02<00:00, 12.91batch/s, accuracy=99.8, loss=0.00896]\n"
     ]
    },
    {
     "name": "stdout",
     "output_type": "stream",
     "text": [
      "Valid: Loss = 0.01333, Acc = 0.9976\n",
      "\n"
     ]
    },
    {
     "name": "stderr",
     "output_type": "stream",
     "text": [
      "Epoch 21: 100%|██████████| 31/31 [00:02<00:00, 13.24batch/s, accuracy=99.8, loss=0.00842]\n"
     ]
    },
    {
     "name": "stdout",
     "output_type": "stream",
     "text": [
      "Valid: Loss = 0.01462, Acc = 0.9972\n",
      "\n"
     ]
    },
    {
     "name": "stderr",
     "output_type": "stream",
     "text": [
      "Epoch 22: 100%|██████████| 31/31 [00:02<00:00, 13.27batch/s, accuracy=99.8, loss=0.00791]\n"
     ]
    },
    {
     "name": "stdout",
     "output_type": "stream",
     "text": [
      "Valid: Loss = 0.011, Acc = 0.9979\n",
      "\n"
     ]
    },
    {
     "name": "stderr",
     "output_type": "stream",
     "text": [
      "Epoch 23: 100%|██████████| 31/31 [00:02<00:00, 12.86batch/s, accuracy=99.8, loss=0.00715]\n"
     ]
    },
    {
     "name": "stdout",
     "output_type": "stream",
     "text": [
      "Valid: Loss = 0.009315, Acc = 0.9979\n",
      "\n"
     ]
    },
    {
     "name": "stderr",
     "output_type": "stream",
     "text": [
      "Epoch 24: 100%|██████████| 31/31 [00:02<00:00, 11.69batch/s, accuracy=99.8, loss=0.00851]\n"
     ]
    },
    {
     "name": "stdout",
     "output_type": "stream",
     "text": [
      "Valid: Loss = 0.009411, Acc = 0.9979\n",
      "\n"
     ]
    },
    {
     "name": "stderr",
     "output_type": "stream",
     "text": [
      "Epoch 25: 100%|██████████| 31/31 [00:02<00:00, 13.25batch/s, accuracy=99.8, loss=0.00715]\n"
     ]
    },
    {
     "name": "stdout",
     "output_type": "stream",
     "text": [
      "Valid: Loss = 0.01035, Acc = 0.9973\n",
      "\n"
     ]
    },
    {
     "name": "stderr",
     "output_type": "stream",
     "text": [
      "Epoch 26: 100%|██████████| 31/31 [00:02<00:00, 13.62batch/s, accuracy=99.8, loss=0.00674]\n"
     ]
    },
    {
     "name": "stdout",
     "output_type": "stream",
     "text": [
      "Valid: Loss = 0.02167, Acc = 0.998\n",
      "\n"
     ]
    },
    {
     "name": "stderr",
     "output_type": "stream",
     "text": [
      "Epoch 27: 100%|██████████| 31/31 [00:02<00:00, 13.42batch/s, accuracy=99.8, loss=0.00621]\n"
     ]
    },
    {
     "name": "stdout",
     "output_type": "stream",
     "text": [
      "Valid: Loss = 0.02036, Acc = 0.998\n",
      "\n"
     ]
    },
    {
     "name": "stderr",
     "output_type": "stream",
     "text": [
      "Epoch 28: 100%|██████████| 31/31 [00:02<00:00, 13.15batch/s, accuracy=99.8, loss=0.00627]\n"
     ]
    },
    {
     "name": "stdout",
     "output_type": "stream",
     "text": [
      "Valid: Loss = 0.02102, Acc = 0.998\n",
      "\n"
     ]
    },
    {
     "name": "stderr",
     "output_type": "stream",
     "text": [
      "Epoch 29: 100%|██████████| 31/31 [00:02<00:00, 12.76batch/s, accuracy=99.8, loss=0.00495]\n"
     ]
    },
    {
     "name": "stdout",
     "output_type": "stream",
     "text": [
      "Valid: Loss = 0.01581, Acc = 0.998\n",
      "\n"
     ]
    },
    {
     "name": "stderr",
     "output_type": "stream",
     "text": [
      "Epoch 30: 100%|██████████| 31/31 [00:02<00:00, 12.39batch/s, accuracy=99.8, loss=0.0117]\n"
     ]
    },
    {
     "name": "stdout",
     "output_type": "stream",
     "text": [
      "Valid: Loss = 0.01119, Acc = 0.9982\n",
      "\n"
     ]
    },
    {
     "name": "stderr",
     "output_type": "stream",
     "text": [
      "Epoch 31: 100%|██████████| 31/31 [00:02<00:00, 13.08batch/s, accuracy=99.8, loss=0.00686]\n"
     ]
    },
    {
     "name": "stdout",
     "output_type": "stream",
     "text": [
      "Valid: Loss = 0.01144, Acc = 0.9982\n",
      "\n"
     ]
    },
    {
     "name": "stderr",
     "output_type": "stream",
     "text": [
      "Epoch 32: 100%|██████████| 31/31 [00:02<00:00, 13.73batch/s, accuracy=99.8, loss=0.0137] \n"
     ]
    },
    {
     "name": "stdout",
     "output_type": "stream",
     "text": [
      "Valid: Loss = 0.02771, Acc = 0.9971\n",
      "\n"
     ]
    },
    {
     "name": "stderr",
     "output_type": "stream",
     "text": [
      "Epoch 33: 100%|██████████| 31/31 [00:02<00:00, 13.67batch/s, accuracy=99.8, loss=0.00982]\n"
     ]
    },
    {
     "name": "stdout",
     "output_type": "stream",
     "text": [
      "Valid: Loss = 0.01453, Acc = 0.9979\n",
      "\n"
     ]
    },
    {
     "name": "stderr",
     "output_type": "stream",
     "text": [
      "Epoch 34: 100%|██████████| 31/31 [00:02<00:00, 13.52batch/s, accuracy=99.8, loss=0.00662]\n"
     ]
    },
    {
     "name": "stdout",
     "output_type": "stream",
     "text": [
      "Valid: Loss = 0.01134, Acc = 0.9982\n",
      "\n"
     ]
    },
    {
     "name": "stderr",
     "output_type": "stream",
     "text": [
      "Epoch 35: 100%|██████████| 31/31 [00:02<00:00, 11.91batch/s, accuracy=99.8, loss=0.0059] \n"
     ]
    },
    {
     "name": "stdout",
     "output_type": "stream",
     "text": [
      "Valid: Loss = 0.007489, Acc = 0.9985\n",
      "\n"
     ]
    },
    {
     "name": "stderr",
     "output_type": "stream",
     "text": [
      "Epoch 36: 100%|██████████| 31/31 [00:02<00:00, 13.27batch/s, accuracy=99.9, loss=0.00504]\n"
     ]
    },
    {
     "name": "stdout",
     "output_type": "stream",
     "text": [
      "Valid: Loss = 0.00635, Acc = 0.9985\n",
      "\n"
     ]
    },
    {
     "name": "stderr",
     "output_type": "stream",
     "text": [
      "Epoch 37: 100%|██████████| 31/31 [00:02<00:00, 13.62batch/s, accuracy=99.9, loss=0.00376]\n"
     ]
    },
    {
     "name": "stdout",
     "output_type": "stream",
     "text": [
      "Valid: Loss = 0.005735, Acc = 0.9986\n",
      "\n"
     ]
    },
    {
     "name": "stderr",
     "output_type": "stream",
     "text": [
      "Epoch 38: 100%|██████████| 31/31 [00:02<00:00, 13.59batch/s, accuracy=99.9, loss=0.00361]\n"
     ]
    },
    {
     "name": "stdout",
     "output_type": "stream",
     "text": [
      "Valid: Loss = 0.006947, Acc = 0.9986\n",
      "\n"
     ]
    },
    {
     "name": "stderr",
     "output_type": "stream",
     "text": [
      "Epoch 39: 100%|██████████| 31/31 [00:02<00:00, 13.10batch/s, accuracy=99.9, loss=0.00727]\n"
     ]
    },
    {
     "name": "stdout",
     "output_type": "stream",
     "text": [
      "Valid: Loss = 0.0214, Acc = 0.9975\n",
      "\n"
     ]
    },
    {
     "name": "stderr",
     "output_type": "stream",
     "text": [
      "Epoch 40: 100%|██████████| 31/31 [00:02<00:00, 12.44batch/s, accuracy=99.8, loss=0.0072] \n"
     ]
    },
    {
     "name": "stdout",
     "output_type": "stream",
     "text": [
      "Valid: Loss = 0.01236, Acc = 0.9985\n",
      "\n"
     ]
    },
    {
     "name": "stderr",
     "output_type": "stream",
     "text": [
      "Epoch 41: 100%|██████████| 31/31 [00:02<00:00, 12.60batch/s, accuracy=99.9, loss=0.0046] \n"
     ]
    },
    {
     "name": "stdout",
     "output_type": "stream",
     "text": [
      "Valid: Loss = 0.009576, Acc = 0.9987\n",
      "\n"
     ]
    },
    {
     "name": "stderr",
     "output_type": "stream",
     "text": [
      "Epoch 42: 100%|██████████| 31/31 [00:02<00:00, 13.13batch/s, accuracy=99.9, loss=0.0032] \n"
     ]
    },
    {
     "name": "stdout",
     "output_type": "stream",
     "text": [
      "Valid: Loss = 0.008137, Acc = 0.9991\n",
      "\n"
     ]
    },
    {
     "name": "stderr",
     "output_type": "stream",
     "text": [
      "Epoch 43: 100%|██████████| 31/31 [00:02<00:00, 13.52batch/s, accuracy=99.9, loss=0.00255]\n"
     ]
    },
    {
     "name": "stdout",
     "output_type": "stream",
     "text": [
      "Valid: Loss = 0.007225, Acc = 0.9989\n",
      "\n"
     ]
    },
    {
     "name": "stderr",
     "output_type": "stream",
     "text": [
      "Epoch 44: 100%|██████████| 31/31 [00:02<00:00, 13.54batch/s, accuracy=99.9, loss=0.00231]\n"
     ]
    },
    {
     "name": "stdout",
     "output_type": "stream",
     "text": [
      "Valid: Loss = 0.007808, Acc = 0.9988\n",
      "\n"
     ]
    },
    {
     "name": "stderr",
     "output_type": "stream",
     "text": [
      "Epoch 45: 100%|██████████| 31/31 [00:02<00:00, 12.89batch/s, accuracy=99.9, loss=0.00264]\n"
     ]
    },
    {
     "name": "stdout",
     "output_type": "stream",
     "text": [
      "Valid: Loss = 0.007378, Acc = 0.9991\n",
      "\n"
     ]
    },
    {
     "name": "stderr",
     "output_type": "stream",
     "text": [
      "Epoch 46: 100%|██████████| 31/31 [00:02<00:00, 11.41batch/s, accuracy=99.9, loss=0.00251]\n"
     ]
    },
    {
     "name": "stdout",
     "output_type": "stream",
     "text": [
      "Valid: Loss = 0.00562, Acc = 0.9989\n",
      "\n"
     ]
    },
    {
     "name": "stderr",
     "output_type": "stream",
     "text": [
      "Epoch 47: 100%|██████████| 31/31 [00:02<00:00, 11.93batch/s, accuracy=99.9, loss=0.00242]\n"
     ]
    },
    {
     "name": "stdout",
     "output_type": "stream",
     "text": [
      "Valid: Loss = 0.004737, Acc = 0.9989\n",
      "\n"
     ]
    },
    {
     "name": "stderr",
     "output_type": "stream",
     "text": [
      "Epoch 48: 100%|██████████| 31/31 [00:02<00:00, 13.04batch/s, accuracy=99.9, loss=0.00211]\n"
     ]
    },
    {
     "name": "stdout",
     "output_type": "stream",
     "text": [
      "Valid: Loss = 0.00469, Acc = 0.9991\n",
      "\n"
     ]
    },
    {
     "name": "stderr",
     "output_type": "stream",
     "text": [
      "Epoch 49: 100%|██████████| 31/31 [00:02<00:00, 13.12batch/s, accuracy=99.9, loss=0.0021] \n"
     ]
    },
    {
     "name": "stdout",
     "output_type": "stream",
     "text": [
      "Valid: Loss = 0.004488, Acc = 0.9992\n",
      "\n"
     ]
    }
   ],
   "source": [
    "for epoch in range(num_epoch):\n",
    "    modl , loss_train , acc_train = train_one_epoch(model,\n",
    "                                                    train_loader,\n",
    "                                                    loss_fn,\n",
    "                                                    optimizer,\n",
    "                                                    epoch)\n",
    "    loss_train_hist.append(loss_train)\n",
    "    acc_train_hist.append(acc_train)\n",
    "    \n",
    "    \n",
    "    loss_valid, acc_valid = evaluate(model,\n",
    "                                     valid_loader,\n",
    "                                     loss_fn)\n",
    "    loss_valid_hist.append(loss_valid)\n",
    "    acc_valid_hist.append(acc_valid)\n",
    "    \n",
    "    print(f'Valid: Loss = {loss_valid:.4}, Acc = {acc_valid:.4}\\n')"
   ]
  },
  {
   "cell_type": "code",
   "execution_count": 99,
   "metadata": {},
   "outputs": [
    {
     "data": {
      "image/png": "[encoded data removed]",
      "text/plain": [
       "<Figure size 432x288 with 1 Axes>"
      ]
     },
     "metadata": {
      "needs_background": "light"
     },
     "output_type": "display_data"
    }
   ],
   "source": [
    "plt.plot(loss_train_hist , color='b' , label='Train Loss');\n",
    "plt.plot(loss_valid_hist , color='orange' , label='valid Loss');\n",
    "plt.title('Still Good Fit , Im Done! :D')\n",
    "plt.legend();"
   ]
  }
 ],
 "metadata": {
  "colab": {
   "collapsed_sections": [
    "fQFlVvECeZsD",
    "OsNaqujTeiGx",
    "3kNFvE61Q7sC",
    "_RlAcfkrvBDn",
    "5qOD027He6RR",
    "Fy195c8EfWDJ",
    "-NBcJXJkfgUI",
    "DY5JMY1Yftsr",
    "f5iDi4F4Cpws",
    "8dejGbh1C1zJ",
    "mbpEEA0g1-Be",
    "cG8chNGOA5LR",
    "9csGqnCvtFAS",
    "lpJ3wtyctQJH",
    "BrHQCv7q7LF_",
    "BLT4w0ZfAhlJ",
    "uC2GhaXfA8vC",
    "NGnaneBEC4Yh",
    "wHA4zxTkDVFY",
    "KmwxbIyjDlxw"
   ],
   "name": "template-homework-5.ipynb",
   "provenance": []
  },
  "kernelspec": {
   "display_name": "Python 3",
   "language": "python",
   "name": "python3"
  },
  "language_info": {
   "codemirror_mode": {
    "name": "ipython",
    "version": 3
   },
   "file_extension": ".py",
   "mimetype": "text/x-python",
   "name": "python",
   "nbconvert_exporter": "python",
   "pygments_lexer": "ipython3",
   "version": "3.7.16"
  }
 },
 "nbformat": 4,
 "nbformat_minor": 4
}
